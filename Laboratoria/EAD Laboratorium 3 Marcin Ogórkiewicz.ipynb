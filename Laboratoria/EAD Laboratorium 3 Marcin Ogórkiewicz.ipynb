{
 "cells": [
  {
   "cell_type": "markdown",
   "source": [
    "# Laboratorium 3: Zaawansowane operacje na danych w Pandas"
   ],
   "metadata": {
    "collapsed": false
   },
   "id": "f21a6741efb87abc"
  },
  {
   "cell_type": "markdown",
   "source": [
    "## Marcin Ogórkiewicz 120674, grupa 1"
   ],
   "metadata": {
    "collapsed": false
   },
   "id": "5982c96e27b3afe8"
  },
  {
   "cell_type": "markdown",
   "source": [
    "### Zadanie 1.\tŁączenie zestawów danych\n",
    "Zaimportuj dwa dostarczone zestawy danych – dane klientów oraz dane zamówień. Wykonaj następujące kroki:\n",
    "a.\tPołącz dane za pomocą merge() na wspólnym kluczu, np. customer_id.\n",
    "b.\tWykorzystaj różne typy połączeń (inner, outer, left, right) i porównaj wyniki.\n",
    "c.\tW połączonym zestawie danych znajdź klientów, którzy nie złożyli żadnych zamówień.\n",
    "d.\tUżyj concat() do dodania nowych rekordów do tabeli zamówień i pokaż różnicę.\n",
    "\n"
   ],
   "metadata": {
    "collapsed": false
   },
   "id": "2b53cb65b1fc8c69"
  },
  {
   "cell_type": "code",
   "execution_count": 288,
   "outputs": [
    {
     "data": {
      "text/plain": "     customer_id        name                     email signup_date  \\\n0       CUST0001  Customer B     customer1@example.com  2020-01-05   \n1       CUST0001  Customer B     customer1@example.com  2020-01-05   \n2       CUST0001  Customer B     customer1@example.com  2020-01-05   \n3       CUST0001  Customer B     customer1@example.com  2020-01-05   \n4       CUST0001  Customer B     customer1@example.com  2020-01-05   \n...          ...         ...                       ...         ...   \n5001    CUST0999  Customer L   customer999@example.com  2039-02-20   \n5002    CUST0999  Customer L   customer999@example.com  2039-02-20   \n5003    CUST0999  Customer L   customer999@example.com  2039-02-20   \n5004    CUST1000  Customer M  customer1000@example.com  2039-02-27   \n5005    CUST1000  Customer M  customer1000@example.com  2039-02-27   \n\n              country  order_id           order_date  order_value  \\\n0              Polska  ORD00813  2021-02-03 20:00:00      1931.66   \n1              Polska  ORD00892  2021-02-07 03:00:00      1866.88   \n2              Polska  ORD02287  2021-04-06 06:00:00      1732.87   \n3              Polska  ORD02564  2021-04-17 19:00:00      4187.44   \n4              Polska  ORD02987  2021-05-05 10:00:00      3363.16   \n...               ...       ...                  ...          ...   \n5001  Wielka Brytania  ORD01176  2021-02-18 23:00:00      1545.44   \n5002  Wielka Brytania  ORD02851  2021-04-29 18:00:00      1049.31   \n5003  Wielka Brytania  ORD04631  2021-07-12 22:00:00       684.56   \n5004           Polska  ORD01794  2021-03-16 17:00:00      1191.21   \n5005           Polska  ORD03880  2021-06-11 15:00:00      4559.99   \n\n     product_name     category  \n0          Laptop  Elektronika  \n1          Laptop    Akcesoria  \n2          Tablet  Elektronika  \n3          Laptop  Elektronika  \n4          Laptop    Komputery  \n...           ...          ...  \n5001       Tablet    Komputery  \n5002       Tablet  Elektronika  \n5003   Smartphone    Akcesoria  \n5004   Smartphone    Akcesoria  \n5005       Laptop    Akcesoria  \n\n[5006 rows x 10 columns]",
      "text/html": "<div>\n<style scoped>\n    .dataframe tbody tr th:only-of-type {\n        vertical-align: middle;\n    }\n\n    .dataframe tbody tr th {\n        vertical-align: top;\n    }\n\n    .dataframe thead th {\n        text-align: right;\n    }\n</style>\n<table border=\"1\" class=\"dataframe\">\n  <thead>\n    <tr style=\"text-align: right;\">\n      <th></th>\n      <th>customer_id</th>\n      <th>name</th>\n      <th>email</th>\n      <th>signup_date</th>\n      <th>country</th>\n      <th>order_id</th>\n      <th>order_date</th>\n      <th>order_value</th>\n      <th>product_name</th>\n      <th>category</th>\n    </tr>\n  </thead>\n  <tbody>\n    <tr>\n      <th>0</th>\n      <td>CUST0001</td>\n      <td>Customer B</td>\n      <td>customer1@example.com</td>\n      <td>2020-01-05</td>\n      <td>Polska</td>\n      <td>ORD00813</td>\n      <td>2021-02-03 20:00:00</td>\n      <td>1931.66</td>\n      <td>Laptop</td>\n      <td>Elektronika</td>\n    </tr>\n    <tr>\n      <th>1</th>\n      <td>CUST0001</td>\n      <td>Customer B</td>\n      <td>customer1@example.com</td>\n      <td>2020-01-05</td>\n      <td>Polska</td>\n      <td>ORD00892</td>\n      <td>2021-02-07 03:00:00</td>\n      <td>1866.88</td>\n      <td>Laptop</td>\n      <td>Akcesoria</td>\n    </tr>\n    <tr>\n      <th>2</th>\n      <td>CUST0001</td>\n      <td>Customer B</td>\n      <td>customer1@example.com</td>\n      <td>2020-01-05</td>\n      <td>Polska</td>\n      <td>ORD02287</td>\n      <td>2021-04-06 06:00:00</td>\n      <td>1732.87</td>\n      <td>Tablet</td>\n      <td>Elektronika</td>\n    </tr>\n    <tr>\n      <th>3</th>\n      <td>CUST0001</td>\n      <td>Customer B</td>\n      <td>customer1@example.com</td>\n      <td>2020-01-05</td>\n      <td>Polska</td>\n      <td>ORD02564</td>\n      <td>2021-04-17 19:00:00</td>\n      <td>4187.44</td>\n      <td>Laptop</td>\n      <td>Elektronika</td>\n    </tr>\n    <tr>\n      <th>4</th>\n      <td>CUST0001</td>\n      <td>Customer B</td>\n      <td>customer1@example.com</td>\n      <td>2020-01-05</td>\n      <td>Polska</td>\n      <td>ORD02987</td>\n      <td>2021-05-05 10:00:00</td>\n      <td>3363.16</td>\n      <td>Laptop</td>\n      <td>Komputery</td>\n    </tr>\n    <tr>\n      <th>...</th>\n      <td>...</td>\n      <td>...</td>\n      <td>...</td>\n      <td>...</td>\n      <td>...</td>\n      <td>...</td>\n      <td>...</td>\n      <td>...</td>\n      <td>...</td>\n      <td>...</td>\n    </tr>\n    <tr>\n      <th>5001</th>\n      <td>CUST0999</td>\n      <td>Customer L</td>\n      <td>customer999@example.com</td>\n      <td>2039-02-20</td>\n      <td>Wielka Brytania</td>\n      <td>ORD01176</td>\n      <td>2021-02-18 23:00:00</td>\n      <td>1545.44</td>\n      <td>Tablet</td>\n      <td>Komputery</td>\n    </tr>\n    <tr>\n      <th>5002</th>\n      <td>CUST0999</td>\n      <td>Customer L</td>\n      <td>customer999@example.com</td>\n      <td>2039-02-20</td>\n      <td>Wielka Brytania</td>\n      <td>ORD02851</td>\n      <td>2021-04-29 18:00:00</td>\n      <td>1049.31</td>\n      <td>Tablet</td>\n      <td>Elektronika</td>\n    </tr>\n    <tr>\n      <th>5003</th>\n      <td>CUST0999</td>\n      <td>Customer L</td>\n      <td>customer999@example.com</td>\n      <td>2039-02-20</td>\n      <td>Wielka Brytania</td>\n      <td>ORD04631</td>\n      <td>2021-07-12 22:00:00</td>\n      <td>684.56</td>\n      <td>Smartphone</td>\n      <td>Akcesoria</td>\n    </tr>\n    <tr>\n      <th>5004</th>\n      <td>CUST1000</td>\n      <td>Customer M</td>\n      <td>customer1000@example.com</td>\n      <td>2039-02-27</td>\n      <td>Polska</td>\n      <td>ORD01794</td>\n      <td>2021-03-16 17:00:00</td>\n      <td>1191.21</td>\n      <td>Smartphone</td>\n      <td>Akcesoria</td>\n    </tr>\n    <tr>\n      <th>5005</th>\n      <td>CUST1000</td>\n      <td>Customer M</td>\n      <td>customer1000@example.com</td>\n      <td>2039-02-27</td>\n      <td>Polska</td>\n      <td>ORD03880</td>\n      <td>2021-06-11 15:00:00</td>\n      <td>4559.99</td>\n      <td>Laptop</td>\n      <td>Akcesoria</td>\n    </tr>\n  </tbody>\n</table>\n<p>5006 rows × 10 columns</p>\n</div>"
     },
     "execution_count": 288,
     "metadata": {},
     "output_type": "execute_result"
    }
   ],
   "source": [
    "import pandas as pd\n",
    "customers_data = pd.read_csv('customers_data.csv') #sczytywanie danych z pliku .csv\n",
    "orders_data = pd.read_csv('orders_data.csv') #sczytywanie danych z pliku .csv\n",
    "#a.\n",
    "merged_data_left = pd.merge(customers_data, orders_data, 'left', 'customer_id') #łączenie zestawów danych typ \"left\"\n",
    "merged_data_left"
   ],
   "metadata": {
    "collapsed": false,
    "ExecuteTime": {
     "end_time": "2024-12-14T12:18:09.522551800Z",
     "start_time": "2024-12-14T12:18:09.481031400Z"
    }
   },
   "id": "4d1c5329a46b727c"
  },
  {
   "cell_type": "code",
   "execution_count": 289,
   "outputs": [
    {
     "data": {
      "text/plain": "     customer_id        name                    email signup_date  \\\n0       CUST0815  Customer J  customer815@example.com  2035-08-12   \n1       CUST0012  Customer M   customer12@example.com  2020-03-22   \n2       CUST0318  Customer G  customer318@example.com  2026-02-01   \n3       CUST0592  Customer U  customer592@example.com  2031-05-04   \n4       CUST0216  Customer I  customer216@example.com  2024-02-18   \n...          ...         ...                      ...         ...   \n4995    CUST0145  Customer P  customer145@example.com  2022-10-09   \n4996    CUST0065  Customer N   customer65@example.com  2021-03-28   \n4997    CUST0247  Customer N  customer247@example.com  2024-09-22   \n4998    CUST0735  Customer H  customer735@example.com  2034-01-29   \n4999    CUST0991  Customer D  customer991@example.com  2038-12-26   \n\n              country  order_id           order_date  order_value  \\\n0                 USA  ORD00001  2021-01-01 00:00:00      1984.58   \n1     Wielka Brytania  ORD00002  2021-01-01 01:00:00      3578.78   \n2              Polska  ORD00003  2021-01-01 02:00:00      1416.78   \n3              Niemcy  ORD00004  2021-01-01 03:00:00      1825.41   \n4              Polska  ORD00005  2021-01-01 04:00:00       961.72   \n...               ...       ...                  ...          ...   \n4995           Polska  ORD04996  2021-07-28 03:00:00      2819.43   \n4996           Polska  ORD04997  2021-07-28 04:00:00      1789.54   \n4997           Polska  ORD04998  2021-07-28 05:00:00      1448.13   \n4998           Polska  ORD04999  2021-07-28 06:00:00      1292.39   \n4999          Francja  ORD05000  2021-07-28 07:00:00      3324.12   \n\n     product_name     category  \n0      Smartphone    Akcesoria  \n1         Monitor    Komputery  \n2          Tablet  Elektronika  \n3          Tablet    Akcesoria  \n4          Laptop    Komputery  \n...           ...          ...  \n4995       Laptop    Akcesoria  \n4996   Smartphone  Elektronika  \n4997       Tablet          RTV  \n4998       Laptop  Elektronika  \n4999   Smartphone          RTV  \n\n[5000 rows x 10 columns]",
      "text/html": "<div>\n<style scoped>\n    .dataframe tbody tr th:only-of-type {\n        vertical-align: middle;\n    }\n\n    .dataframe tbody tr th {\n        vertical-align: top;\n    }\n\n    .dataframe thead th {\n        text-align: right;\n    }\n</style>\n<table border=\"1\" class=\"dataframe\">\n  <thead>\n    <tr style=\"text-align: right;\">\n      <th></th>\n      <th>customer_id</th>\n      <th>name</th>\n      <th>email</th>\n      <th>signup_date</th>\n      <th>country</th>\n      <th>order_id</th>\n      <th>order_date</th>\n      <th>order_value</th>\n      <th>product_name</th>\n      <th>category</th>\n    </tr>\n  </thead>\n  <tbody>\n    <tr>\n      <th>0</th>\n      <td>CUST0815</td>\n      <td>Customer J</td>\n      <td>customer815@example.com</td>\n      <td>2035-08-12</td>\n      <td>USA</td>\n      <td>ORD00001</td>\n      <td>2021-01-01 00:00:00</td>\n      <td>1984.58</td>\n      <td>Smartphone</td>\n      <td>Akcesoria</td>\n    </tr>\n    <tr>\n      <th>1</th>\n      <td>CUST0012</td>\n      <td>Customer M</td>\n      <td>customer12@example.com</td>\n      <td>2020-03-22</td>\n      <td>Wielka Brytania</td>\n      <td>ORD00002</td>\n      <td>2021-01-01 01:00:00</td>\n      <td>3578.78</td>\n      <td>Monitor</td>\n      <td>Komputery</td>\n    </tr>\n    <tr>\n      <th>2</th>\n      <td>CUST0318</td>\n      <td>Customer G</td>\n      <td>customer318@example.com</td>\n      <td>2026-02-01</td>\n      <td>Polska</td>\n      <td>ORD00003</td>\n      <td>2021-01-01 02:00:00</td>\n      <td>1416.78</td>\n      <td>Tablet</td>\n      <td>Elektronika</td>\n    </tr>\n    <tr>\n      <th>3</th>\n      <td>CUST0592</td>\n      <td>Customer U</td>\n      <td>customer592@example.com</td>\n      <td>2031-05-04</td>\n      <td>Niemcy</td>\n      <td>ORD00004</td>\n      <td>2021-01-01 03:00:00</td>\n      <td>1825.41</td>\n      <td>Tablet</td>\n      <td>Akcesoria</td>\n    </tr>\n    <tr>\n      <th>4</th>\n      <td>CUST0216</td>\n      <td>Customer I</td>\n      <td>customer216@example.com</td>\n      <td>2024-02-18</td>\n      <td>Polska</td>\n      <td>ORD00005</td>\n      <td>2021-01-01 04:00:00</td>\n      <td>961.72</td>\n      <td>Laptop</td>\n      <td>Komputery</td>\n    </tr>\n    <tr>\n      <th>...</th>\n      <td>...</td>\n      <td>...</td>\n      <td>...</td>\n      <td>...</td>\n      <td>...</td>\n      <td>...</td>\n      <td>...</td>\n      <td>...</td>\n      <td>...</td>\n      <td>...</td>\n    </tr>\n    <tr>\n      <th>4995</th>\n      <td>CUST0145</td>\n      <td>Customer P</td>\n      <td>customer145@example.com</td>\n      <td>2022-10-09</td>\n      <td>Polska</td>\n      <td>ORD04996</td>\n      <td>2021-07-28 03:00:00</td>\n      <td>2819.43</td>\n      <td>Laptop</td>\n      <td>Akcesoria</td>\n    </tr>\n    <tr>\n      <th>4996</th>\n      <td>CUST0065</td>\n      <td>Customer N</td>\n      <td>customer65@example.com</td>\n      <td>2021-03-28</td>\n      <td>Polska</td>\n      <td>ORD04997</td>\n      <td>2021-07-28 04:00:00</td>\n      <td>1789.54</td>\n      <td>Smartphone</td>\n      <td>Elektronika</td>\n    </tr>\n    <tr>\n      <th>4997</th>\n      <td>CUST0247</td>\n      <td>Customer N</td>\n      <td>customer247@example.com</td>\n      <td>2024-09-22</td>\n      <td>Polska</td>\n      <td>ORD04998</td>\n      <td>2021-07-28 05:00:00</td>\n      <td>1448.13</td>\n      <td>Tablet</td>\n      <td>RTV</td>\n    </tr>\n    <tr>\n      <th>4998</th>\n      <td>CUST0735</td>\n      <td>Customer H</td>\n      <td>customer735@example.com</td>\n      <td>2034-01-29</td>\n      <td>Polska</td>\n      <td>ORD04999</td>\n      <td>2021-07-28 06:00:00</td>\n      <td>1292.39</td>\n      <td>Laptop</td>\n      <td>Elektronika</td>\n    </tr>\n    <tr>\n      <th>4999</th>\n      <td>CUST0991</td>\n      <td>Customer D</td>\n      <td>customer991@example.com</td>\n      <td>2038-12-26</td>\n      <td>Francja</td>\n      <td>ORD05000</td>\n      <td>2021-07-28 07:00:00</td>\n      <td>3324.12</td>\n      <td>Smartphone</td>\n      <td>RTV</td>\n    </tr>\n  </tbody>\n</table>\n<p>5000 rows × 10 columns</p>\n</div>"
     },
     "execution_count": 289,
     "metadata": {},
     "output_type": "execute_result"
    }
   ],
   "source": [
    "merged_data_right = pd.merge(customers_data, orders_data, 'right', 'customer_id') #łączenie zestawów danych typ \"right\"\n",
    "merged_data_right"
   ],
   "metadata": {
    "collapsed": false,
    "ExecuteTime": {
     "end_time": "2024-12-14T12:18:09.702738900Z",
     "start_time": "2024-12-14T12:18:09.657720900Z"
    }
   },
   "id": "f5adabcac0c5bd70"
  },
  {
   "cell_type": "code",
   "execution_count": 290,
   "outputs": [
    {
     "data": {
      "text/plain": "     customer_id        name                     email signup_date  \\\n0       CUST0001  Customer B     customer1@example.com  2020-01-05   \n1       CUST0001  Customer B     customer1@example.com  2020-01-05   \n2       CUST0001  Customer B     customer1@example.com  2020-01-05   \n3       CUST0001  Customer B     customer1@example.com  2020-01-05   \n4       CUST0001  Customer B     customer1@example.com  2020-01-05   \n...          ...         ...                       ...         ...   \n4995    CUST0999  Customer L   customer999@example.com  2039-02-20   \n4996    CUST0999  Customer L   customer999@example.com  2039-02-20   \n4997    CUST0999  Customer L   customer999@example.com  2039-02-20   \n4998    CUST1000  Customer M  customer1000@example.com  2039-02-27   \n4999    CUST1000  Customer M  customer1000@example.com  2039-02-27   \n\n              country  order_id           order_date  order_value  \\\n0              Polska  ORD00813  2021-02-03 20:00:00      1931.66   \n1              Polska  ORD00892  2021-02-07 03:00:00      1866.88   \n2              Polska  ORD02287  2021-04-06 06:00:00      1732.87   \n3              Polska  ORD02564  2021-04-17 19:00:00      4187.44   \n4              Polska  ORD02987  2021-05-05 10:00:00      3363.16   \n...               ...       ...                  ...          ...   \n4995  Wielka Brytania  ORD01176  2021-02-18 23:00:00      1545.44   \n4996  Wielka Brytania  ORD02851  2021-04-29 18:00:00      1049.31   \n4997  Wielka Brytania  ORD04631  2021-07-12 22:00:00       684.56   \n4998           Polska  ORD01794  2021-03-16 17:00:00      1191.21   \n4999           Polska  ORD03880  2021-06-11 15:00:00      4559.99   \n\n     product_name     category  \n0          Laptop  Elektronika  \n1          Laptop    Akcesoria  \n2          Tablet  Elektronika  \n3          Laptop  Elektronika  \n4          Laptop    Komputery  \n...           ...          ...  \n4995       Tablet    Komputery  \n4996       Tablet  Elektronika  \n4997   Smartphone    Akcesoria  \n4998   Smartphone    Akcesoria  \n4999       Laptop    Akcesoria  \n\n[5000 rows x 10 columns]",
      "text/html": "<div>\n<style scoped>\n    .dataframe tbody tr th:only-of-type {\n        vertical-align: middle;\n    }\n\n    .dataframe tbody tr th {\n        vertical-align: top;\n    }\n\n    .dataframe thead th {\n        text-align: right;\n    }\n</style>\n<table border=\"1\" class=\"dataframe\">\n  <thead>\n    <tr style=\"text-align: right;\">\n      <th></th>\n      <th>customer_id</th>\n      <th>name</th>\n      <th>email</th>\n      <th>signup_date</th>\n      <th>country</th>\n      <th>order_id</th>\n      <th>order_date</th>\n      <th>order_value</th>\n      <th>product_name</th>\n      <th>category</th>\n    </tr>\n  </thead>\n  <tbody>\n    <tr>\n      <th>0</th>\n      <td>CUST0001</td>\n      <td>Customer B</td>\n      <td>customer1@example.com</td>\n      <td>2020-01-05</td>\n      <td>Polska</td>\n      <td>ORD00813</td>\n      <td>2021-02-03 20:00:00</td>\n      <td>1931.66</td>\n      <td>Laptop</td>\n      <td>Elektronika</td>\n    </tr>\n    <tr>\n      <th>1</th>\n      <td>CUST0001</td>\n      <td>Customer B</td>\n      <td>customer1@example.com</td>\n      <td>2020-01-05</td>\n      <td>Polska</td>\n      <td>ORD00892</td>\n      <td>2021-02-07 03:00:00</td>\n      <td>1866.88</td>\n      <td>Laptop</td>\n      <td>Akcesoria</td>\n    </tr>\n    <tr>\n      <th>2</th>\n      <td>CUST0001</td>\n      <td>Customer B</td>\n      <td>customer1@example.com</td>\n      <td>2020-01-05</td>\n      <td>Polska</td>\n      <td>ORD02287</td>\n      <td>2021-04-06 06:00:00</td>\n      <td>1732.87</td>\n      <td>Tablet</td>\n      <td>Elektronika</td>\n    </tr>\n    <tr>\n      <th>3</th>\n      <td>CUST0001</td>\n      <td>Customer B</td>\n      <td>customer1@example.com</td>\n      <td>2020-01-05</td>\n      <td>Polska</td>\n      <td>ORD02564</td>\n      <td>2021-04-17 19:00:00</td>\n      <td>4187.44</td>\n      <td>Laptop</td>\n      <td>Elektronika</td>\n    </tr>\n    <tr>\n      <th>4</th>\n      <td>CUST0001</td>\n      <td>Customer B</td>\n      <td>customer1@example.com</td>\n      <td>2020-01-05</td>\n      <td>Polska</td>\n      <td>ORD02987</td>\n      <td>2021-05-05 10:00:00</td>\n      <td>3363.16</td>\n      <td>Laptop</td>\n      <td>Komputery</td>\n    </tr>\n    <tr>\n      <th>...</th>\n      <td>...</td>\n      <td>...</td>\n      <td>...</td>\n      <td>...</td>\n      <td>...</td>\n      <td>...</td>\n      <td>...</td>\n      <td>...</td>\n      <td>...</td>\n      <td>...</td>\n    </tr>\n    <tr>\n      <th>4995</th>\n      <td>CUST0999</td>\n      <td>Customer L</td>\n      <td>customer999@example.com</td>\n      <td>2039-02-20</td>\n      <td>Wielka Brytania</td>\n      <td>ORD01176</td>\n      <td>2021-02-18 23:00:00</td>\n      <td>1545.44</td>\n      <td>Tablet</td>\n      <td>Komputery</td>\n    </tr>\n    <tr>\n      <th>4996</th>\n      <td>CUST0999</td>\n      <td>Customer L</td>\n      <td>customer999@example.com</td>\n      <td>2039-02-20</td>\n      <td>Wielka Brytania</td>\n      <td>ORD02851</td>\n      <td>2021-04-29 18:00:00</td>\n      <td>1049.31</td>\n      <td>Tablet</td>\n      <td>Elektronika</td>\n    </tr>\n    <tr>\n      <th>4997</th>\n      <td>CUST0999</td>\n      <td>Customer L</td>\n      <td>customer999@example.com</td>\n      <td>2039-02-20</td>\n      <td>Wielka Brytania</td>\n      <td>ORD04631</td>\n      <td>2021-07-12 22:00:00</td>\n      <td>684.56</td>\n      <td>Smartphone</td>\n      <td>Akcesoria</td>\n    </tr>\n    <tr>\n      <th>4998</th>\n      <td>CUST1000</td>\n      <td>Customer M</td>\n      <td>customer1000@example.com</td>\n      <td>2039-02-27</td>\n      <td>Polska</td>\n      <td>ORD01794</td>\n      <td>2021-03-16 17:00:00</td>\n      <td>1191.21</td>\n      <td>Smartphone</td>\n      <td>Akcesoria</td>\n    </tr>\n    <tr>\n      <th>4999</th>\n      <td>CUST1000</td>\n      <td>Customer M</td>\n      <td>customer1000@example.com</td>\n      <td>2039-02-27</td>\n      <td>Polska</td>\n      <td>ORD03880</td>\n      <td>2021-06-11 15:00:00</td>\n      <td>4559.99</td>\n      <td>Laptop</td>\n      <td>Akcesoria</td>\n    </tr>\n  </tbody>\n</table>\n<p>5000 rows × 10 columns</p>\n</div>"
     },
     "execution_count": 290,
     "metadata": {},
     "output_type": "execute_result"
    }
   ],
   "source": [
    "merged_data_inner = pd.merge(customers_data, orders_data, 'inner', 'customer_id') #łączenie zestawów danych typ \"inner\"\n",
    "merged_data_inner"
   ],
   "metadata": {
    "collapsed": false,
    "ExecuteTime": {
     "end_time": "2024-12-14T12:18:09.802298400Z",
     "start_time": "2024-12-14T12:18:09.768255400Z"
    }
   },
   "id": "8d5692f261ac22f0"
  },
  {
   "cell_type": "code",
   "execution_count": 291,
   "outputs": [
    {
     "data": {
      "text/plain": "     customer_id        name                     email signup_date  \\\n0       CUST0001  Customer B     customer1@example.com  2020-01-05   \n1       CUST0001  Customer B     customer1@example.com  2020-01-05   \n2       CUST0001  Customer B     customer1@example.com  2020-01-05   \n3       CUST0001  Customer B     customer1@example.com  2020-01-05   \n4       CUST0001  Customer B     customer1@example.com  2020-01-05   \n...          ...         ...                       ...         ...   \n5001    CUST0999  Customer L   customer999@example.com  2039-02-20   \n5002    CUST0999  Customer L   customer999@example.com  2039-02-20   \n5003    CUST0999  Customer L   customer999@example.com  2039-02-20   \n5004    CUST1000  Customer M  customer1000@example.com  2039-02-27   \n5005    CUST1000  Customer M  customer1000@example.com  2039-02-27   \n\n              country  order_id           order_date  order_value  \\\n0              Polska  ORD00813  2021-02-03 20:00:00      1931.66   \n1              Polska  ORD00892  2021-02-07 03:00:00      1866.88   \n2              Polska  ORD02287  2021-04-06 06:00:00      1732.87   \n3              Polska  ORD02564  2021-04-17 19:00:00      4187.44   \n4              Polska  ORD02987  2021-05-05 10:00:00      3363.16   \n...               ...       ...                  ...          ...   \n5001  Wielka Brytania  ORD01176  2021-02-18 23:00:00      1545.44   \n5002  Wielka Brytania  ORD02851  2021-04-29 18:00:00      1049.31   \n5003  Wielka Brytania  ORD04631  2021-07-12 22:00:00       684.56   \n5004           Polska  ORD01794  2021-03-16 17:00:00      1191.21   \n5005           Polska  ORD03880  2021-06-11 15:00:00      4559.99   \n\n     product_name     category  \n0          Laptop  Elektronika  \n1          Laptop    Akcesoria  \n2          Tablet  Elektronika  \n3          Laptop  Elektronika  \n4          Laptop    Komputery  \n...           ...          ...  \n5001       Tablet    Komputery  \n5002       Tablet  Elektronika  \n5003   Smartphone    Akcesoria  \n5004   Smartphone    Akcesoria  \n5005       Laptop    Akcesoria  \n\n[5006 rows x 10 columns]",
      "text/html": "<div>\n<style scoped>\n    .dataframe tbody tr th:only-of-type {\n        vertical-align: middle;\n    }\n\n    .dataframe tbody tr th {\n        vertical-align: top;\n    }\n\n    .dataframe thead th {\n        text-align: right;\n    }\n</style>\n<table border=\"1\" class=\"dataframe\">\n  <thead>\n    <tr style=\"text-align: right;\">\n      <th></th>\n      <th>customer_id</th>\n      <th>name</th>\n      <th>email</th>\n      <th>signup_date</th>\n      <th>country</th>\n      <th>order_id</th>\n      <th>order_date</th>\n      <th>order_value</th>\n      <th>product_name</th>\n      <th>category</th>\n    </tr>\n  </thead>\n  <tbody>\n    <tr>\n      <th>0</th>\n      <td>CUST0001</td>\n      <td>Customer B</td>\n      <td>customer1@example.com</td>\n      <td>2020-01-05</td>\n      <td>Polska</td>\n      <td>ORD00813</td>\n      <td>2021-02-03 20:00:00</td>\n      <td>1931.66</td>\n      <td>Laptop</td>\n      <td>Elektronika</td>\n    </tr>\n    <tr>\n      <th>1</th>\n      <td>CUST0001</td>\n      <td>Customer B</td>\n      <td>customer1@example.com</td>\n      <td>2020-01-05</td>\n      <td>Polska</td>\n      <td>ORD00892</td>\n      <td>2021-02-07 03:00:00</td>\n      <td>1866.88</td>\n      <td>Laptop</td>\n      <td>Akcesoria</td>\n    </tr>\n    <tr>\n      <th>2</th>\n      <td>CUST0001</td>\n      <td>Customer B</td>\n      <td>customer1@example.com</td>\n      <td>2020-01-05</td>\n      <td>Polska</td>\n      <td>ORD02287</td>\n      <td>2021-04-06 06:00:00</td>\n      <td>1732.87</td>\n      <td>Tablet</td>\n      <td>Elektronika</td>\n    </tr>\n    <tr>\n      <th>3</th>\n      <td>CUST0001</td>\n      <td>Customer B</td>\n      <td>customer1@example.com</td>\n      <td>2020-01-05</td>\n      <td>Polska</td>\n      <td>ORD02564</td>\n      <td>2021-04-17 19:00:00</td>\n      <td>4187.44</td>\n      <td>Laptop</td>\n      <td>Elektronika</td>\n    </tr>\n    <tr>\n      <th>4</th>\n      <td>CUST0001</td>\n      <td>Customer B</td>\n      <td>customer1@example.com</td>\n      <td>2020-01-05</td>\n      <td>Polska</td>\n      <td>ORD02987</td>\n      <td>2021-05-05 10:00:00</td>\n      <td>3363.16</td>\n      <td>Laptop</td>\n      <td>Komputery</td>\n    </tr>\n    <tr>\n      <th>...</th>\n      <td>...</td>\n      <td>...</td>\n      <td>...</td>\n      <td>...</td>\n      <td>...</td>\n      <td>...</td>\n      <td>...</td>\n      <td>...</td>\n      <td>...</td>\n      <td>...</td>\n    </tr>\n    <tr>\n      <th>5001</th>\n      <td>CUST0999</td>\n      <td>Customer L</td>\n      <td>customer999@example.com</td>\n      <td>2039-02-20</td>\n      <td>Wielka Brytania</td>\n      <td>ORD01176</td>\n      <td>2021-02-18 23:00:00</td>\n      <td>1545.44</td>\n      <td>Tablet</td>\n      <td>Komputery</td>\n    </tr>\n    <tr>\n      <th>5002</th>\n      <td>CUST0999</td>\n      <td>Customer L</td>\n      <td>customer999@example.com</td>\n      <td>2039-02-20</td>\n      <td>Wielka Brytania</td>\n      <td>ORD02851</td>\n      <td>2021-04-29 18:00:00</td>\n      <td>1049.31</td>\n      <td>Tablet</td>\n      <td>Elektronika</td>\n    </tr>\n    <tr>\n      <th>5003</th>\n      <td>CUST0999</td>\n      <td>Customer L</td>\n      <td>customer999@example.com</td>\n      <td>2039-02-20</td>\n      <td>Wielka Brytania</td>\n      <td>ORD04631</td>\n      <td>2021-07-12 22:00:00</td>\n      <td>684.56</td>\n      <td>Smartphone</td>\n      <td>Akcesoria</td>\n    </tr>\n    <tr>\n      <th>5004</th>\n      <td>CUST1000</td>\n      <td>Customer M</td>\n      <td>customer1000@example.com</td>\n      <td>2039-02-27</td>\n      <td>Polska</td>\n      <td>ORD01794</td>\n      <td>2021-03-16 17:00:00</td>\n      <td>1191.21</td>\n      <td>Smartphone</td>\n      <td>Akcesoria</td>\n    </tr>\n    <tr>\n      <th>5005</th>\n      <td>CUST1000</td>\n      <td>Customer M</td>\n      <td>customer1000@example.com</td>\n      <td>2039-02-27</td>\n      <td>Polska</td>\n      <td>ORD03880</td>\n      <td>2021-06-11 15:00:00</td>\n      <td>4559.99</td>\n      <td>Laptop</td>\n      <td>Akcesoria</td>\n    </tr>\n  </tbody>\n</table>\n<p>5006 rows × 10 columns</p>\n</div>"
     },
     "execution_count": 291,
     "metadata": {},
     "output_type": "execute_result"
    }
   ],
   "source": [
    "merged_data_outer = pd.merge(customers_data, orders_data, 'outer', 'customer_id') #łączenie zestawów danych typ \"outer\"\n",
    "merged_data_outer"
   ],
   "metadata": {
    "collapsed": false,
    "ExecuteTime": {
     "end_time": "2024-12-14T12:18:10.017183100Z",
     "start_time": "2024-12-14T12:18:09.906154600Z"
    }
   },
   "id": "64370811f4947659"
  },
  {
   "cell_type": "markdown",
   "source": [
    "b. Połączenia \"left\", \"inner\" i \"outer\" w tym wypadku niczym się nie różnią. Wybranie tych typów powoduje utworzenie DataFrame zawierającego wszystkich klientów i dokonane przez nich zamówienia. Prawa tabela zostaje dołączona do lewej. W wypadku \"right\" sytuacja jest odwrotna, do każdego zamówienia dołączone zostały pełne dane klienta, który je stworzył. Lewa tabela zostaje dołączona do prawej."
   ],
   "metadata": {
    "collapsed": false
   },
   "id": "c6b6c65e326a1fc2"
  },
  {
   "cell_type": "code",
   "execution_count": 292,
   "outputs": [
    {
     "data": {
      "text/plain": "     customer_id        name                    email signup_date  \\\n151     CUST0034  Customer I   customer34@example.com  2020-08-23   \n1192    CUST0249  Customer P  customer249@example.com  2024-10-06   \n1672    CUST0346  Customer I  customer346@example.com  2026-08-16   \n2667    CUST0545  Customer Z  customer545@example.com  2030-06-09   \n3523    CUST0706  Customer E  customer706@example.com  2033-07-10   \n4827    CUST0967  Customer F  customer967@example.com  2038-07-11   \n\n              country  \n151   Wielka Brytania  \n1192  Wielka Brytania  \n1672           Niemcy  \n2667           Niemcy  \n3523  Wielka Brytania  \n4827          Francja  ",
      "text/html": "<div>\n<style scoped>\n    .dataframe tbody tr th:only-of-type {\n        vertical-align: middle;\n    }\n\n    .dataframe tbody tr th {\n        vertical-align: top;\n    }\n\n    .dataframe thead th {\n        text-align: right;\n    }\n</style>\n<table border=\"1\" class=\"dataframe\">\n  <thead>\n    <tr style=\"text-align: right;\">\n      <th></th>\n      <th>customer_id</th>\n      <th>name</th>\n      <th>email</th>\n      <th>signup_date</th>\n      <th>country</th>\n    </tr>\n  </thead>\n  <tbody>\n    <tr>\n      <th>151</th>\n      <td>CUST0034</td>\n      <td>Customer I</td>\n      <td>customer34@example.com</td>\n      <td>2020-08-23</td>\n      <td>Wielka Brytania</td>\n    </tr>\n    <tr>\n      <th>1192</th>\n      <td>CUST0249</td>\n      <td>Customer P</td>\n      <td>customer249@example.com</td>\n      <td>2024-10-06</td>\n      <td>Wielka Brytania</td>\n    </tr>\n    <tr>\n      <th>1672</th>\n      <td>CUST0346</td>\n      <td>Customer I</td>\n      <td>customer346@example.com</td>\n      <td>2026-08-16</td>\n      <td>Niemcy</td>\n    </tr>\n    <tr>\n      <th>2667</th>\n      <td>CUST0545</td>\n      <td>Customer Z</td>\n      <td>customer545@example.com</td>\n      <td>2030-06-09</td>\n      <td>Niemcy</td>\n    </tr>\n    <tr>\n      <th>3523</th>\n      <td>CUST0706</td>\n      <td>Customer E</td>\n      <td>customer706@example.com</td>\n      <td>2033-07-10</td>\n      <td>Wielka Brytania</td>\n    </tr>\n    <tr>\n      <th>4827</th>\n      <td>CUST0967</td>\n      <td>Customer F</td>\n      <td>customer967@example.com</td>\n      <td>2038-07-11</td>\n      <td>Francja</td>\n    </tr>\n  </tbody>\n</table>\n</div>"
     },
     "execution_count": 292,
     "metadata": {},
     "output_type": "execute_result"
    }
   ],
   "source": [
    "#c.\n",
    "customers_no_orders = merged_data_left[merged_data_left['order_id'].isna()].iloc[:, :5] #utworzenie nowego DataFrame, w którym znajdują się wszyscy klienci ze złączonego zestawu danych, dla których pole \"order_id\" jest puste, nowy zestaw jest ograniczony tylko do pierwszych pięciu kolumn\n",
    "customers_no_orders"
   ],
   "metadata": {
    "collapsed": false,
    "ExecuteTime": {
     "end_time": "2024-12-14T12:18:10.201712200Z",
     "start_time": "2024-12-14T12:18:10.148707500Z"
    }
   },
   "id": "a991646c27830732"
  },
  {
   "cell_type": "code",
   "execution_count": 293,
   "outputs": [
    {
     "data": {
      "text/plain": "   order_id customer_id           order_date  order_value product_name  \\\n0  ORD05001    CUST0034  2024-12-13 07:00:00      3324.12   Smartphone   \n1  ORD05002    CUST0249  2024-12-13 07:00:00      3324.12   Smartphone   \n2  ORD05003    CUST0346  2024-12-13 07:00:00      3324.12   Smartphone   \n3  ORD05004    CUST0545  2024-12-13 07:00:00      3324.12   Smartphone   \n4  ORD05005    CUST0706  2024-12-13 07:00:00      3324.12   Smartphone   \n5  ORD05006    CUST0967  2024-12-13 07:00:00      3324.12   Smartphone   \n\n  category  \n0      RTV  \n1      RTV  \n2      RTV  \n3      RTV  \n4      RTV  \n5      RTV  ",
      "text/html": "<div>\n<style scoped>\n    .dataframe tbody tr th:only-of-type {\n        vertical-align: middle;\n    }\n\n    .dataframe tbody tr th {\n        vertical-align: top;\n    }\n\n    .dataframe thead th {\n        text-align: right;\n    }\n</style>\n<table border=\"1\" class=\"dataframe\">\n  <thead>\n    <tr style=\"text-align: right;\">\n      <th></th>\n      <th>order_id</th>\n      <th>customer_id</th>\n      <th>order_date</th>\n      <th>order_value</th>\n      <th>product_name</th>\n      <th>category</th>\n    </tr>\n  </thead>\n  <tbody>\n    <tr>\n      <th>0</th>\n      <td>ORD05001</td>\n      <td>CUST0034</td>\n      <td>2024-12-13 07:00:00</td>\n      <td>3324.12</td>\n      <td>Smartphone</td>\n      <td>RTV</td>\n    </tr>\n    <tr>\n      <th>1</th>\n      <td>ORD05002</td>\n      <td>CUST0249</td>\n      <td>2024-12-13 07:00:00</td>\n      <td>3324.12</td>\n      <td>Smartphone</td>\n      <td>RTV</td>\n    </tr>\n    <tr>\n      <th>2</th>\n      <td>ORD05003</td>\n      <td>CUST0346</td>\n      <td>2024-12-13 07:00:00</td>\n      <td>3324.12</td>\n      <td>Smartphone</td>\n      <td>RTV</td>\n    </tr>\n    <tr>\n      <th>3</th>\n      <td>ORD05004</td>\n      <td>CUST0545</td>\n      <td>2024-12-13 07:00:00</td>\n      <td>3324.12</td>\n      <td>Smartphone</td>\n      <td>RTV</td>\n    </tr>\n    <tr>\n      <th>4</th>\n      <td>ORD05005</td>\n      <td>CUST0706</td>\n      <td>2024-12-13 07:00:00</td>\n      <td>3324.12</td>\n      <td>Smartphone</td>\n      <td>RTV</td>\n    </tr>\n    <tr>\n      <th>5</th>\n      <td>ORD05006</td>\n      <td>CUST0967</td>\n      <td>2024-12-13 07:00:00</td>\n      <td>3324.12</td>\n      <td>Smartphone</td>\n      <td>RTV</td>\n    </tr>\n  </tbody>\n</table>\n</div>"
     },
     "execution_count": 293,
     "metadata": {},
     "output_type": "execute_result"
    }
   ],
   "source": [
    "#d.\n",
    "new_orders = pd.DataFrame(\n",
    "    [['ORD05001','CUST0034', '2024-12-13 07:00:00', 3324.12, 'Smartphone', 'RTV'],\n",
    "     ['ORD05002','CUST0249', '2024-12-13 07:00:00', 3324.12, 'Smartphone', 'RTV'],\n",
    "     ['ORD05003','CUST0346', '2024-12-13 07:00:00', 3324.12, 'Smartphone', 'RTV'],\n",
    "     ['ORD05004','CUST0545', '2024-12-13 07:00:00', 3324.12, 'Smartphone', 'RTV'],\n",
    "     ['ORD05005','CUST0706', '2024-12-13 07:00:00', 3324.12, 'Smartphone', 'RTV'],\n",
    "     ['ORD05006','CUST0967', '2024-12-13 07:00:00', 3324.12, 'Smartphone', 'RTV']],\n",
    "    columns=['order_id', 'customer_id', 'order_date', 'order_value', 'product_name', 'category']) #DataFrame z nowymi zamówieniami\n",
    "orders_data = pd.concat([orders_data, new_orders]) #dodanie nowych zamówień\n",
    "orders_data.tail(6) #wyświetlenie sześciu ostatnich rekordów z zestawu zamówień, w celu potwierdzenia ich dodania"
   ],
   "metadata": {
    "collapsed": false,
    "ExecuteTime": {
     "end_time": "2024-12-14T12:18:10.396276100Z",
     "start_time": "2024-12-14T12:18:10.261226400Z"
    }
   },
   "id": "41e262c0edf8d721"
  },
  {
   "cell_type": "code",
   "execution_count": 294,
   "outputs": [],
   "source": [
    "merged_data_left = pd.merge(customers_data, orders_data, 'left', 'customer_id') #ponowne łączenie danych w celu uzupełnienia braków w zamówieniach"
   ],
   "metadata": {
    "collapsed": false,
    "ExecuteTime": {
     "end_time": "2024-12-14T12:18:10.468794200Z",
     "start_time": "2024-12-14T12:18:10.386279500Z"
    }
   },
   "id": "fdfd3b83cd38b9a0"
  },
  {
   "cell_type": "markdown",
   "source": [
    "### Zadanie 2.\tTworzenie tabel przestawnych\n",
    "Wykorzystaj zestaw zamówień i przeprowadź następujące operacje:\n",
    "a.\tStwórz tabelę przestawną (pivot_table) pokazującą sumę wartości zamówień (order_value) w podziale na klientów oraz kategorie produktów.\n",
    "b.\tDla każdego klienta oblicz średnią wartość zamówienia oraz liczbę zamówień.\n",
    "c.\tZa pomocą melt() przekształć tabelę przestawną do formatu długiego (ang. long format).\n",
    "\n"
   ],
   "metadata": {
    "collapsed": false
   },
   "id": "6c0c726a7d81a3f3"
  },
  {
   "cell_type": "code",
   "execution_count": 295,
   "outputs": [
    {
     "data": {
      "text/plain": "category     Akcesoria  Elektronika  Komputery     RTV\ncustomer_id                                           \nCUST0001       1866.88     10452.59    3363.16     0.0\nCUST0002       2123.27       646.15       0.00     0.0\nCUST0003          0.00      4655.70    7790.69     0.0\nCUST0004          0.00      4167.72       0.00     0.0\nCUST0005          0.00         0.00    4012.99     0.0\n...                ...          ...        ...     ...\nCUST0996          0.00     11783.72       0.00     0.0\nCUST0997       1098.69      1608.08     295.98     0.0\nCUST0998       1458.91      7960.03       0.00  3332.5\nCUST0999        684.56      1049.31    2937.02     0.0\nCUST1000       5751.20         0.00       0.00     0.0\n\n[1000 rows x 4 columns]",
      "text/html": "<div>\n<style scoped>\n    .dataframe tbody tr th:only-of-type {\n        vertical-align: middle;\n    }\n\n    .dataframe tbody tr th {\n        vertical-align: top;\n    }\n\n    .dataframe thead th {\n        text-align: right;\n    }\n</style>\n<table border=\"1\" class=\"dataframe\">\n  <thead>\n    <tr style=\"text-align: right;\">\n      <th>category</th>\n      <th>Akcesoria</th>\n      <th>Elektronika</th>\n      <th>Komputery</th>\n      <th>RTV</th>\n    </tr>\n    <tr>\n      <th>customer_id</th>\n      <th></th>\n      <th></th>\n      <th></th>\n      <th></th>\n    </tr>\n  </thead>\n  <tbody>\n    <tr>\n      <th>CUST0001</th>\n      <td>1866.88</td>\n      <td>10452.59</td>\n      <td>3363.16</td>\n      <td>0.0</td>\n    </tr>\n    <tr>\n      <th>CUST0002</th>\n      <td>2123.27</td>\n      <td>646.15</td>\n      <td>0.00</td>\n      <td>0.0</td>\n    </tr>\n    <tr>\n      <th>CUST0003</th>\n      <td>0.00</td>\n      <td>4655.70</td>\n      <td>7790.69</td>\n      <td>0.0</td>\n    </tr>\n    <tr>\n      <th>CUST0004</th>\n      <td>0.00</td>\n      <td>4167.72</td>\n      <td>0.00</td>\n      <td>0.0</td>\n    </tr>\n    <tr>\n      <th>CUST0005</th>\n      <td>0.00</td>\n      <td>0.00</td>\n      <td>4012.99</td>\n      <td>0.0</td>\n    </tr>\n    <tr>\n      <th>...</th>\n      <td>...</td>\n      <td>...</td>\n      <td>...</td>\n      <td>...</td>\n    </tr>\n    <tr>\n      <th>CUST0996</th>\n      <td>0.00</td>\n      <td>11783.72</td>\n      <td>0.00</td>\n      <td>0.0</td>\n    </tr>\n    <tr>\n      <th>CUST0997</th>\n      <td>1098.69</td>\n      <td>1608.08</td>\n      <td>295.98</td>\n      <td>0.0</td>\n    </tr>\n    <tr>\n      <th>CUST0998</th>\n      <td>1458.91</td>\n      <td>7960.03</td>\n      <td>0.00</td>\n      <td>3332.5</td>\n    </tr>\n    <tr>\n      <th>CUST0999</th>\n      <td>684.56</td>\n      <td>1049.31</td>\n      <td>2937.02</td>\n      <td>0.0</td>\n    </tr>\n    <tr>\n      <th>CUST1000</th>\n      <td>5751.20</td>\n      <td>0.00</td>\n      <td>0.00</td>\n      <td>0.0</td>\n    </tr>\n  </tbody>\n</table>\n<p>1000 rows × 4 columns</p>\n</div>"
     },
     "execution_count": 295,
     "metadata": {},
     "output_type": "execute_result"
    }
   ],
   "source": [
    "#a.\n",
    "clients_order_values_categories = orders_data.pivot_table(\n",
    "    values = 'order_value', #wartość do funkcji agregacyjnej\n",
    "    index = 'customer_id', #indeks, według którego dopasowywane są dane\n",
    "    columns = 'category', #kolumny, które stanowią poszczególne kategorie\n",
    "    aggfunc = 'sum', #typ funkcji agregacyjnej\n",
    "    fill_value = 0 #wartość, którą uzupełniane są puste miejsca\n",
    ") #tworzenie tabeli przestawnej, która sumuje wartość zamówień klientów z każdej kategorii\n",
    "clients_order_values_categories.index.name = 'customer_id' #nadanie nazwy indeksowi\n",
    "clients_order_values_categories"
   ],
   "metadata": {
    "collapsed": false,
    "ExecuteTime": {
     "end_time": "2024-12-14T12:18:10.697905200Z",
     "start_time": "2024-12-14T12:18:10.636857300Z"
    }
   },
   "id": "57ff22a95f786900"
  },
  {
   "cell_type": "code",
   "execution_count": 296,
   "outputs": [
    {
     "data": {
      "text/plain": "             average_order_value  order_count\ncustomer_id                                  \nCUST0001                 2613.77            6\nCUST0002                  923.14            3\nCUST0003                 1778.06            7\nCUST0004                 4167.72            1\nCUST0005                 4012.99            1\n...                          ...          ...\nCUST0996                 3927.91            3\nCUST0997                  750.69            4\nCUST0998                 3187.86            4\nCUST0999                 1167.72            4\nCUST1000                 2875.60            2\n\n[1000 rows x 2 columns]",
      "text/html": "<div>\n<style scoped>\n    .dataframe tbody tr th:only-of-type {\n        vertical-align: middle;\n    }\n\n    .dataframe tbody tr th {\n        vertical-align: top;\n    }\n\n    .dataframe thead th {\n        text-align: right;\n    }\n</style>\n<table border=\"1\" class=\"dataframe\">\n  <thead>\n    <tr style=\"text-align: right;\">\n      <th></th>\n      <th>average_order_value</th>\n      <th>order_count</th>\n    </tr>\n    <tr>\n      <th>customer_id</th>\n      <th></th>\n      <th></th>\n    </tr>\n  </thead>\n  <tbody>\n    <tr>\n      <th>CUST0001</th>\n      <td>2613.77</td>\n      <td>6</td>\n    </tr>\n    <tr>\n      <th>CUST0002</th>\n      <td>923.14</td>\n      <td>3</td>\n    </tr>\n    <tr>\n      <th>CUST0003</th>\n      <td>1778.06</td>\n      <td>7</td>\n    </tr>\n    <tr>\n      <th>CUST0004</th>\n      <td>4167.72</td>\n      <td>1</td>\n    </tr>\n    <tr>\n      <th>CUST0005</th>\n      <td>4012.99</td>\n      <td>1</td>\n    </tr>\n    <tr>\n      <th>...</th>\n      <td>...</td>\n      <td>...</td>\n    </tr>\n    <tr>\n      <th>CUST0996</th>\n      <td>3927.91</td>\n      <td>3</td>\n    </tr>\n    <tr>\n      <th>CUST0997</th>\n      <td>750.69</td>\n      <td>4</td>\n    </tr>\n    <tr>\n      <th>CUST0998</th>\n      <td>3187.86</td>\n      <td>4</td>\n    </tr>\n    <tr>\n      <th>CUST0999</th>\n      <td>1167.72</td>\n      <td>4</td>\n    </tr>\n    <tr>\n      <th>CUST1000</th>\n      <td>2875.60</td>\n      <td>2</td>\n    </tr>\n  </tbody>\n</table>\n<p>1000 rows × 2 columns</p>\n</div>"
     },
     "execution_count": 296,
     "metadata": {},
     "output_type": "execute_result"
    }
   ],
   "source": [
    "#b.\n",
    "customer_stats = orders_data.groupby('customer_id').agg( #tworzenie tabeli przestawnej\n",
    "    average_order_value = ('order_value', 'mean'),  #średnia wartość zamówienia\n",
    "    order_count = ('order_value', 'count')           #liczba zamówień\n",
    ")\n",
    "customer_stats['average_order_value'] = customer_stats['average_order_value'].round(2) #zaokrąglenie średniej wartości zamówienia do dwóch miejsc po przecinku\n",
    "customer_stats"
   ],
   "metadata": {
    "collapsed": false,
    "ExecuteTime": {
     "end_time": "2024-12-14T12:18:10.964952100Z",
     "start_time": "2024-12-14T12:18:10.834566100Z"
    }
   },
   "id": "bf069f3c122143e9"
  },
  {
   "cell_type": "code",
   "execution_count": 297,
   "outputs": [
    {
     "data": {
      "text/plain": "     customer_id   category  order_values\n0       CUST0001  Akcesoria       1866.88\n1       CUST0002  Akcesoria       2123.27\n2       CUST0003  Akcesoria          0.00\n3       CUST0004  Akcesoria          0.00\n4       CUST0005  Akcesoria          0.00\n...          ...        ...           ...\n3995    CUST0996        RTV          0.00\n3996    CUST0997        RTV          0.00\n3997    CUST0998        RTV       3332.50\n3998    CUST0999        RTV          0.00\n3999    CUST1000        RTV          0.00\n\n[4000 rows x 3 columns]",
      "text/html": "<div>\n<style scoped>\n    .dataframe tbody tr th:only-of-type {\n        vertical-align: middle;\n    }\n\n    .dataframe tbody tr th {\n        vertical-align: top;\n    }\n\n    .dataframe thead th {\n        text-align: right;\n    }\n</style>\n<table border=\"1\" class=\"dataframe\">\n  <thead>\n    <tr style=\"text-align: right;\">\n      <th></th>\n      <th>customer_id</th>\n      <th>category</th>\n      <th>order_values</th>\n    </tr>\n  </thead>\n  <tbody>\n    <tr>\n      <th>0</th>\n      <td>CUST0001</td>\n      <td>Akcesoria</td>\n      <td>1866.88</td>\n    </tr>\n    <tr>\n      <th>1</th>\n      <td>CUST0002</td>\n      <td>Akcesoria</td>\n      <td>2123.27</td>\n    </tr>\n    <tr>\n      <th>2</th>\n      <td>CUST0003</td>\n      <td>Akcesoria</td>\n      <td>0.00</td>\n    </tr>\n    <tr>\n      <th>3</th>\n      <td>CUST0004</td>\n      <td>Akcesoria</td>\n      <td>0.00</td>\n    </tr>\n    <tr>\n      <th>4</th>\n      <td>CUST0005</td>\n      <td>Akcesoria</td>\n      <td>0.00</td>\n    </tr>\n    <tr>\n      <th>...</th>\n      <td>...</td>\n      <td>...</td>\n      <td>...</td>\n    </tr>\n    <tr>\n      <th>3995</th>\n      <td>CUST0996</td>\n      <td>RTV</td>\n      <td>0.00</td>\n    </tr>\n    <tr>\n      <th>3996</th>\n      <td>CUST0997</td>\n      <td>RTV</td>\n      <td>0.00</td>\n    </tr>\n    <tr>\n      <th>3997</th>\n      <td>CUST0998</td>\n      <td>RTV</td>\n      <td>3332.50</td>\n    </tr>\n    <tr>\n      <th>3998</th>\n      <td>CUST0999</td>\n      <td>RTV</td>\n      <td>0.00</td>\n    </tr>\n    <tr>\n      <th>3999</th>\n      <td>CUST1000</td>\n      <td>RTV</td>\n      <td>0.00</td>\n    </tr>\n  </tbody>\n</table>\n<p>4000 rows × 3 columns</p>\n</div>"
     },
     "execution_count": 297,
     "metadata": {},
     "output_type": "execute_result"
    }
   ],
   "source": [
    "#c.\n",
    "long_format = clients_order_values_categories.reset_index().melt( #przekształcanie tabeli przestawnej na format długi, reset_index powoduje zamianę indeksu na zwykła kolummnę\n",
    "    id_vars = 'customer_id',        #kolumna, która pozostaje bez zmian (indeks)\n",
    "    var_name = 'category',    #nazwa kolumny, która przechowuje dawne nagłówki kolumn\n",
    "    value_name = 'order_values'        #nazwa kolumny z wartościami\n",
    ")\n",
    "long_format"
   ],
   "metadata": {
    "collapsed": false,
    "ExecuteTime": {
     "end_time": "2024-12-14T12:18:11.100473700Z",
     "start_time": "2024-12-14T12:18:11.018471600Z"
    }
   },
   "id": "41e34955ed3ea54d"
  },
  {
   "cell_type": "markdown",
   "source": [
    "### Zadanie 3.\tTworzenie nowych kolumn\n",
    "Na zestawie zamówień wykonaj następujące operacje:\n",
    "a.\tDodaj nową kolumnę vat, obliczając 23% podatku VAT od wartości każdego zamówienia.\n",
    "b.\tStwórz kolumnę order_date_month, która zawiera tylko nazwę miesiąca z daty zamówienia.\n",
    "c.\tZdefiniuj nową kolumnę high_value_order, która przyjmuje wartość True, jeśli zamówienie przekracza wartość 1000, i False w przeciwnym razie.\n",
    "\n"
   ],
   "metadata": {
    "collapsed": false
   },
   "id": "f95a218315bdfd54"
  },
  {
   "cell_type": "code",
   "execution_count": 298,
   "outputs": [
    {
     "data": {
      "text/plain": "   order_id customer_id           order_date  order_value product_name  \\\n0  ORD00001    CUST0815  2021-01-01 00:00:00      1984.58   Smartphone   \n1  ORD00002    CUST0012  2021-01-01 01:00:00      3578.78      Monitor   \n2  ORD00003    CUST0318  2021-01-01 02:00:00      1416.78       Tablet   \n3  ORD00004    CUST0592  2021-01-01 03:00:00      1825.41       Tablet   \n4  ORD00005    CUST0216  2021-01-01 04:00:00       961.72       Laptop   \n\n      category       vat order_date_month  high_value_order  \n0    Akcesoria  456.4534          January              True  \n1    Komputery  823.1194          January              True  \n2  Elektronika  325.8594          January              True  \n3    Akcesoria  419.8443          January              True  \n4    Komputery  221.1956          January             False  ",
      "text/html": "<div>\n<style scoped>\n    .dataframe tbody tr th:only-of-type {\n        vertical-align: middle;\n    }\n\n    .dataframe tbody tr th {\n        vertical-align: top;\n    }\n\n    .dataframe thead th {\n        text-align: right;\n    }\n</style>\n<table border=\"1\" class=\"dataframe\">\n  <thead>\n    <tr style=\"text-align: right;\">\n      <th></th>\n      <th>order_id</th>\n      <th>customer_id</th>\n      <th>order_date</th>\n      <th>order_value</th>\n      <th>product_name</th>\n      <th>category</th>\n      <th>vat</th>\n      <th>order_date_month</th>\n      <th>high_value_order</th>\n    </tr>\n  </thead>\n  <tbody>\n    <tr>\n      <th>0</th>\n      <td>ORD00001</td>\n      <td>CUST0815</td>\n      <td>2021-01-01 00:00:00</td>\n      <td>1984.58</td>\n      <td>Smartphone</td>\n      <td>Akcesoria</td>\n      <td>456.4534</td>\n      <td>January</td>\n      <td>True</td>\n    </tr>\n    <tr>\n      <th>1</th>\n      <td>ORD00002</td>\n      <td>CUST0012</td>\n      <td>2021-01-01 01:00:00</td>\n      <td>3578.78</td>\n      <td>Monitor</td>\n      <td>Komputery</td>\n      <td>823.1194</td>\n      <td>January</td>\n      <td>True</td>\n    </tr>\n    <tr>\n      <th>2</th>\n      <td>ORD00003</td>\n      <td>CUST0318</td>\n      <td>2021-01-01 02:00:00</td>\n      <td>1416.78</td>\n      <td>Tablet</td>\n      <td>Elektronika</td>\n      <td>325.8594</td>\n      <td>January</td>\n      <td>True</td>\n    </tr>\n    <tr>\n      <th>3</th>\n      <td>ORD00004</td>\n      <td>CUST0592</td>\n      <td>2021-01-01 03:00:00</td>\n      <td>1825.41</td>\n      <td>Tablet</td>\n      <td>Akcesoria</td>\n      <td>419.8443</td>\n      <td>January</td>\n      <td>True</td>\n    </tr>\n    <tr>\n      <th>4</th>\n      <td>ORD00005</td>\n      <td>CUST0216</td>\n      <td>2021-01-01 04:00:00</td>\n      <td>961.72</td>\n      <td>Laptop</td>\n      <td>Komputery</td>\n      <td>221.1956</td>\n      <td>January</td>\n      <td>False</td>\n    </tr>\n  </tbody>\n</table>\n</div>"
     },
     "execution_count": 298,
     "metadata": {},
     "output_type": "execute_result"
    }
   ],
   "source": [
    "#a. Dodanie kolumny `vat` obliczającej 23% podatku VAT\n",
    "orders_data['vat'] = orders_data['order_value'] * 0.23\n",
    "#b. Stworzenie kolumny `order_date_month` zawierającej nazwę miesiąca\n",
    "orders_data['order_date_month'] = pd.to_datetime(orders_data['order_date']).dt.month_name()\n",
    "#c. Definiowanie kolumny `high_value_order`\n",
    "orders_data['high_value_order'] = orders_data['order_value'] > 1000\n",
    "orders_data.head()"
   ],
   "metadata": {
    "collapsed": false,
    "ExecuteTime": {
     "end_time": "2024-12-14T12:18:12.987173400Z",
     "start_time": "2024-12-14T12:18:12.895629400Z"
    }
   },
   "id": "6c4c276db3c2e73b"
  },
  {
   "cell_type": "markdown",
   "source": [
    "### Zadanie 4.\tPrzekształcanie danych za pomocą apply()\n",
    "Przeprowadź zaawansowane operacje na danych:\n",
    "a.\tUżyj apply() na kolumnie product_name, aby policzyć długość nazwy każdego produktu.\n",
    "b.\tStwórz funkcję, która oznacza zamówienia jako „małe”, „średnie” lub „duże” w zależności od wartości zamówienia (order_value), i zaimplementuj ją przy użyciu apply().\n",
    "\n"
   ],
   "metadata": {
    "collapsed": false
   },
   "id": "80fd474c6575f806"
  },
  {
   "cell_type": "code",
   "execution_count": 299,
   "outputs": [
    {
     "data": {
      "text/plain": "   order_id customer_id           order_date  order_value product_name  \\\n0  ORD00001    CUST0815  2021-01-01 00:00:00      1984.58   Smartphone   \n1  ORD00002    CUST0012  2021-01-01 01:00:00      3578.78      Monitor   \n2  ORD00003    CUST0318  2021-01-01 02:00:00      1416.78       Tablet   \n3  ORD00004    CUST0592  2021-01-01 03:00:00      1825.41       Tablet   \n4  ORD00005    CUST0216  2021-01-01 04:00:00       961.72       Laptop   \n\n      category       vat order_date_month  high_value_order  \\\n0    Akcesoria  456.4534          January              True   \n1    Komputery  823.1194          January              True   \n2  Elektronika  325.8594          January              True   \n3    Akcesoria  419.8443          January              True   \n4    Komputery  221.1956          January             False   \n\n   product_name_length order_size  \n0                   10        big  \n1                    7        big  \n2                    6        big  \n3                    6        big  \n4                    6     medium  ",
      "text/html": "<div>\n<style scoped>\n    .dataframe tbody tr th:only-of-type {\n        vertical-align: middle;\n    }\n\n    .dataframe tbody tr th {\n        vertical-align: top;\n    }\n\n    .dataframe thead th {\n        text-align: right;\n    }\n</style>\n<table border=\"1\" class=\"dataframe\">\n  <thead>\n    <tr style=\"text-align: right;\">\n      <th></th>\n      <th>order_id</th>\n      <th>customer_id</th>\n      <th>order_date</th>\n      <th>order_value</th>\n      <th>product_name</th>\n      <th>category</th>\n      <th>vat</th>\n      <th>order_date_month</th>\n      <th>high_value_order</th>\n      <th>product_name_length</th>\n      <th>order_size</th>\n    </tr>\n  </thead>\n  <tbody>\n    <tr>\n      <th>0</th>\n      <td>ORD00001</td>\n      <td>CUST0815</td>\n      <td>2021-01-01 00:00:00</td>\n      <td>1984.58</td>\n      <td>Smartphone</td>\n      <td>Akcesoria</td>\n      <td>456.4534</td>\n      <td>January</td>\n      <td>True</td>\n      <td>10</td>\n      <td>big</td>\n    </tr>\n    <tr>\n      <th>1</th>\n      <td>ORD00002</td>\n      <td>CUST0012</td>\n      <td>2021-01-01 01:00:00</td>\n      <td>3578.78</td>\n      <td>Monitor</td>\n      <td>Komputery</td>\n      <td>823.1194</td>\n      <td>January</td>\n      <td>True</td>\n      <td>7</td>\n      <td>big</td>\n    </tr>\n    <tr>\n      <th>2</th>\n      <td>ORD00003</td>\n      <td>CUST0318</td>\n      <td>2021-01-01 02:00:00</td>\n      <td>1416.78</td>\n      <td>Tablet</td>\n      <td>Elektronika</td>\n      <td>325.8594</td>\n      <td>January</td>\n      <td>True</td>\n      <td>6</td>\n      <td>big</td>\n    </tr>\n    <tr>\n      <th>3</th>\n      <td>ORD00004</td>\n      <td>CUST0592</td>\n      <td>2021-01-01 03:00:00</td>\n      <td>1825.41</td>\n      <td>Tablet</td>\n      <td>Akcesoria</td>\n      <td>419.8443</td>\n      <td>January</td>\n      <td>True</td>\n      <td>6</td>\n      <td>big</td>\n    </tr>\n    <tr>\n      <th>4</th>\n      <td>ORD00005</td>\n      <td>CUST0216</td>\n      <td>2021-01-01 04:00:00</td>\n      <td>961.72</td>\n      <td>Laptop</td>\n      <td>Komputery</td>\n      <td>221.1956</td>\n      <td>January</td>\n      <td>False</td>\n      <td>6</td>\n      <td>medium</td>\n    </tr>\n  </tbody>\n</table>\n</div>"
     },
     "execution_count": 299,
     "metadata": {},
     "output_type": "execute_result"
    }
   ],
   "source": [
    "#a. Utworzenie nowej kolumny \"product_name_length\", która przechowuje długość nazw produktów\n",
    "orders_data['product_name_length'] = orders_data['product_name'].apply(len)\n",
    "#b.\n",
    "def classify_order(value): # Definiowanie funkcji klasyfikującej zamówienia\n",
    "    if value < 500:\n",
    "        return \"small\"\n",
    "    elif 500 <= value <= 1000:\n",
    "        return \"medium\"\n",
    "    else:\n",
    "        return \"big\"\n",
    "\n",
    "# Zastosowanie funkcji do kolumny 'order_value' za pomocą apply()\n",
    "orders_data['order_size'] = orders_data['order_value'].apply(classify_order) #Utworzenie nowej kolumny, w której zamówienia oznaczone są jako małe(mniej niż 500), średnie(nie mniej niż 500, ale nie więcej niż 1000) lub duże(więcej niż 1000), w zależności od wartości kolumny order_value\n",
    "orders_data.head()"
   ],
   "metadata": {
    "collapsed": false,
    "ExecuteTime": {
     "end_time": "2024-12-14T12:18:12.990173200Z",
     "start_time": "2024-12-14T12:18:12.928171900Z"
    }
   },
   "id": "eedac10aa8821f92"
  },
  {
   "cell_type": "markdown",
   "source": [
    "### Zadanie 5.\tAgregacja danych\n",
    "Skorzystaj z zestawu danych połączonych w Zadaniu 1 i wykonaj:\n",
    "a.\tGrupowanie po kolumnie customer_id, aby obliczyć:\n",
    "    i.\tłączną wartość zamówień każdego klienta,\n",
    "    ii.\tliczbę zamówień,\n",
    "    iii.\tmaksymalną wartość zamówienia.\n",
    "b.\tDla każdej kategorii produktu oblicz sumaryczną wartość sprzedaży oraz liczbę zamówień.\n",
    "c.\tPrzekształć wyniki agregacji na formę tabeli przestawnej.\n",
    "\n"
   ],
   "metadata": {
    "collapsed": false
   },
   "id": "aa43c3aec70c4761"
  },
  {
   "cell_type": "code",
   "execution_count": 300,
   "outputs": [
    {
     "data": {
      "text/plain": "             total_order_value  order_count  max_order_value\ncustomer_id                                                 \nCUST0001              15682.63            6          4187.44\nCUST0002               2769.42            3          1082.43\nCUST0003              12446.39            7          4123.10\nCUST0004               4167.72            1          4167.72\nCUST0005               4012.99            1          4012.99\n...                        ...          ...              ...\nCUST0996              11783.72            3          4911.46\nCUST0997               3002.75            4          1397.86\nCUST0998              12751.44            4          4366.37\nCUST0999               4670.89            4          1545.44\nCUST1000               5751.20            2          4559.99\n\n[1000 rows x 3 columns]",
      "text/html": "<div>\n<style scoped>\n    .dataframe tbody tr th:only-of-type {\n        vertical-align: middle;\n    }\n\n    .dataframe tbody tr th {\n        vertical-align: top;\n    }\n\n    .dataframe thead th {\n        text-align: right;\n    }\n</style>\n<table border=\"1\" class=\"dataframe\">\n  <thead>\n    <tr style=\"text-align: right;\">\n      <th></th>\n      <th>total_order_value</th>\n      <th>order_count</th>\n      <th>max_order_value</th>\n    </tr>\n    <tr>\n      <th>customer_id</th>\n      <th></th>\n      <th></th>\n      <th></th>\n    </tr>\n  </thead>\n  <tbody>\n    <tr>\n      <th>CUST0001</th>\n      <td>15682.63</td>\n      <td>6</td>\n      <td>4187.44</td>\n    </tr>\n    <tr>\n      <th>CUST0002</th>\n      <td>2769.42</td>\n      <td>3</td>\n      <td>1082.43</td>\n    </tr>\n    <tr>\n      <th>CUST0003</th>\n      <td>12446.39</td>\n      <td>7</td>\n      <td>4123.10</td>\n    </tr>\n    <tr>\n      <th>CUST0004</th>\n      <td>4167.72</td>\n      <td>1</td>\n      <td>4167.72</td>\n    </tr>\n    <tr>\n      <th>CUST0005</th>\n      <td>4012.99</td>\n      <td>1</td>\n      <td>4012.99</td>\n    </tr>\n    <tr>\n      <th>...</th>\n      <td>...</td>\n      <td>...</td>\n      <td>...</td>\n    </tr>\n    <tr>\n      <th>CUST0996</th>\n      <td>11783.72</td>\n      <td>3</td>\n      <td>4911.46</td>\n    </tr>\n    <tr>\n      <th>CUST0997</th>\n      <td>3002.75</td>\n      <td>4</td>\n      <td>1397.86</td>\n    </tr>\n    <tr>\n      <th>CUST0998</th>\n      <td>12751.44</td>\n      <td>4</td>\n      <td>4366.37</td>\n    </tr>\n    <tr>\n      <th>CUST0999</th>\n      <td>4670.89</td>\n      <td>4</td>\n      <td>1545.44</td>\n    </tr>\n    <tr>\n      <th>CUST1000</th>\n      <td>5751.20</td>\n      <td>2</td>\n      <td>4559.99</td>\n    </tr>\n  </tbody>\n</table>\n<p>1000 rows × 3 columns</p>\n</div>"
     },
     "execution_count": 300,
     "metadata": {},
     "output_type": "execute_result"
    }
   ],
   "source": [
    "#a.\n",
    "customer_order_stats = merged_data_left.groupby('customer_id').agg( #grupowanie po unikalnym id każdego klienta\n",
    "    total_order_value=('order_value', 'sum'),  #łączna wartość zamówień\n",
    "    order_count=('order_id', 'count'),        #liczba zamówień\n",
    "    max_order_value=('order_value', 'max')    #maksymalna wartość zamówienia\n",
    ")\n",
    "customer_order_stats"
   ],
   "metadata": {
    "collapsed": false,
    "ExecuteTime": {
     "end_time": "2024-12-14T12:18:13.016706900Z",
     "start_time": "2024-12-14T12:18:12.963183500Z"
    }
   },
   "id": "29ed8c888048e7f8"
  },
  {
   "cell_type": "markdown",
   "source": [],
   "metadata": {
    "collapsed": false
   },
   "id": "b8a58cdfa2f92287"
  },
  {
   "cell_type": "code",
   "execution_count": 301,
   "outputs": [
    {
     "data": {
      "text/plain": "              total_sales_value  total_sales_amount\nproduct_name                                       \nHeadphones           1238797.40                 500\nLaptop               3700885.48                1479\nMonitor              1149924.24                 477\nSmartphone           3904758.17                1532\nTablet               2500036.28                1018",
      "text/html": "<div>\n<style scoped>\n    .dataframe tbody tr th:only-of-type {\n        vertical-align: middle;\n    }\n\n    .dataframe tbody tr th {\n        vertical-align: top;\n    }\n\n    .dataframe thead th {\n        text-align: right;\n    }\n</style>\n<table border=\"1\" class=\"dataframe\">\n  <thead>\n    <tr style=\"text-align: right;\">\n      <th></th>\n      <th>total_sales_value</th>\n      <th>total_sales_amount</th>\n    </tr>\n    <tr>\n      <th>product_name</th>\n      <th></th>\n      <th></th>\n    </tr>\n  </thead>\n  <tbody>\n    <tr>\n      <th>Headphones</th>\n      <td>1238797.40</td>\n      <td>500</td>\n    </tr>\n    <tr>\n      <th>Laptop</th>\n      <td>3700885.48</td>\n      <td>1479</td>\n    </tr>\n    <tr>\n      <th>Monitor</th>\n      <td>1149924.24</td>\n      <td>477</td>\n    </tr>\n    <tr>\n      <th>Smartphone</th>\n      <td>3904758.17</td>\n      <td>1532</td>\n    </tr>\n    <tr>\n      <th>Tablet</th>\n      <td>2500036.28</td>\n      <td>1018</td>\n    </tr>\n  </tbody>\n</table>\n</div>"
     },
     "execution_count": 301,
     "metadata": {},
     "output_type": "execute_result"
    }
   ],
   "source": [
    "#b.\n",
    "product_stats = merged_data_left.groupby('product_name').agg( #grupowanie po unikalnej nazwie każdego produktu\n",
    "    total_sales_value = ('order_value', 'sum'), #łączna wartość sprzedaży\n",
    "    total_sales_amount = ('product_name', 'count') #łączna ilość sprzedaży\n",
    ")\n",
    "product_stats"
   ],
   "metadata": {
    "collapsed": false,
    "ExecuteTime": {
     "end_time": "2024-12-14T12:18:13.143236500Z",
     "start_time": "2024-12-14T12:18:12.991176700Z"
    }
   },
   "id": "72d48e762769a6a"
  },
  {
   "cell_type": "code",
   "execution_count": 302,
   "outputs": [
    {
     "data": {
      "text/plain": "             max_order_value  order_count  total_order_value\ncustomer_id                                                 \nCUST0001             4187.44          6.0           15682.63\nCUST0002             1082.43          3.0            2769.42\nCUST0003             4123.10          7.0           12446.39\nCUST0004             4167.72          1.0            4167.72\nCUST0005             4012.99          1.0            4012.99\n...                      ...          ...                ...\nCUST0996             4911.46          3.0           11783.72\nCUST0997             1397.86          4.0            3002.75\nCUST0998             4366.37          4.0           12751.44\nCUST0999             1545.44          4.0            4670.89\nCUST1000             4559.99          2.0            5751.20\n\n[1000 rows x 3 columns]",
      "text/html": "<div>\n<style scoped>\n    .dataframe tbody tr th:only-of-type {\n        vertical-align: middle;\n    }\n\n    .dataframe tbody tr th {\n        vertical-align: top;\n    }\n\n    .dataframe thead th {\n        text-align: right;\n    }\n</style>\n<table border=\"1\" class=\"dataframe\">\n  <thead>\n    <tr style=\"text-align: right;\">\n      <th></th>\n      <th>max_order_value</th>\n      <th>order_count</th>\n      <th>total_order_value</th>\n    </tr>\n    <tr>\n      <th>customer_id</th>\n      <th></th>\n      <th></th>\n      <th></th>\n    </tr>\n  </thead>\n  <tbody>\n    <tr>\n      <th>CUST0001</th>\n      <td>4187.44</td>\n      <td>6.0</td>\n      <td>15682.63</td>\n    </tr>\n    <tr>\n      <th>CUST0002</th>\n      <td>1082.43</td>\n      <td>3.0</td>\n      <td>2769.42</td>\n    </tr>\n    <tr>\n      <th>CUST0003</th>\n      <td>4123.10</td>\n      <td>7.0</td>\n      <td>12446.39</td>\n    </tr>\n    <tr>\n      <th>CUST0004</th>\n      <td>4167.72</td>\n      <td>1.0</td>\n      <td>4167.72</td>\n    </tr>\n    <tr>\n      <th>CUST0005</th>\n      <td>4012.99</td>\n      <td>1.0</td>\n      <td>4012.99</td>\n    </tr>\n    <tr>\n      <th>...</th>\n      <td>...</td>\n      <td>...</td>\n      <td>...</td>\n    </tr>\n    <tr>\n      <th>CUST0996</th>\n      <td>4911.46</td>\n      <td>3.0</td>\n      <td>11783.72</td>\n    </tr>\n    <tr>\n      <th>CUST0997</th>\n      <td>1397.86</td>\n      <td>4.0</td>\n      <td>3002.75</td>\n    </tr>\n    <tr>\n      <th>CUST0998</th>\n      <td>4366.37</td>\n      <td>4.0</td>\n      <td>12751.44</td>\n    </tr>\n    <tr>\n      <th>CUST0999</th>\n      <td>1545.44</td>\n      <td>4.0</td>\n      <td>4670.89</td>\n    </tr>\n    <tr>\n      <th>CUST1000</th>\n      <td>4559.99</td>\n      <td>2.0</td>\n      <td>5751.20</td>\n    </tr>\n  </tbody>\n</table>\n<p>1000 rows × 3 columns</p>\n</div>"
     },
     "execution_count": 302,
     "metadata": {},
     "output_type": "execute_result"
    }
   ],
   "source": [
    "#c.\n",
    "pivot_customer_order_stats = customer_order_stats.reset_index().pivot_table( #tworzenie tabeli przestawnej z agregacji z danymi klientów z poprzedniego podpunktu\n",
    "    index='customer_id',\n",
    "    values=['total_order_value', 'order_count', 'max_order_value']\n",
    ")\n",
    "pivot_customer_order_stats"
   ],
   "metadata": {
    "collapsed": false,
    "ExecuteTime": {
     "end_time": "2024-12-14T12:18:13.607014500Z",
     "start_time": "2024-12-14T12:18:13.509916300Z"
    }
   },
   "id": "25bff2b9c992fc18"
  },
  {
   "cell_type": "code",
   "execution_count": 303,
   "outputs": [
    {
     "data": {
      "text/plain": "              total_sales_amount  total_sales_value\nproduct_name                                       \nHeadphones                 500.0         1238797.40\nLaptop                    1479.0         3700885.48\nMonitor                    477.0         1149924.24\nSmartphone                1532.0         3904758.17\nTablet                    1018.0         2500036.28",
      "text/html": "<div>\n<style scoped>\n    .dataframe tbody tr th:only-of-type {\n        vertical-align: middle;\n    }\n\n    .dataframe tbody tr th {\n        vertical-align: top;\n    }\n\n    .dataframe thead th {\n        text-align: right;\n    }\n</style>\n<table border=\"1\" class=\"dataframe\">\n  <thead>\n    <tr style=\"text-align: right;\">\n      <th></th>\n      <th>total_sales_amount</th>\n      <th>total_sales_value</th>\n    </tr>\n    <tr>\n      <th>product_name</th>\n      <th></th>\n      <th></th>\n    </tr>\n  </thead>\n  <tbody>\n    <tr>\n      <th>Headphones</th>\n      <td>500.0</td>\n      <td>1238797.40</td>\n    </tr>\n    <tr>\n      <th>Laptop</th>\n      <td>1479.0</td>\n      <td>3700885.48</td>\n    </tr>\n    <tr>\n      <th>Monitor</th>\n      <td>477.0</td>\n      <td>1149924.24</td>\n    </tr>\n    <tr>\n      <th>Smartphone</th>\n      <td>1532.0</td>\n      <td>3904758.17</td>\n    </tr>\n    <tr>\n      <th>Tablet</th>\n      <td>1018.0</td>\n      <td>2500036.28</td>\n    </tr>\n  </tbody>\n</table>\n</div>"
     },
     "execution_count": 303,
     "metadata": {},
     "output_type": "execute_result"
    }
   ],
   "source": [
    "pivot_product_stats = product_stats.reset_index().pivot_table( #tworzenie tabeli przestawnej z agregacji z danymi produktów z poprzedniego podpunktu\n",
    "    index='product_name',\n",
    "    values=['total_sales_value', 'total_sales_amount']\n",
    ")\n",
    "pivot_product_stats"
   ],
   "metadata": {
    "collapsed": false,
    "ExecuteTime": {
     "end_time": "2024-12-14T12:18:14.328915400Z",
     "start_time": "2024-12-14T12:18:14.288265600Z"
    }
   },
   "id": "bc57fb89c3979a8"
  },
  {
   "cell_type": "markdown",
   "source": [
    "### Zadanie 6.\tZapisanie i załadowanie danych\n",
    "a.\tZapisz wyniki swojej analizy (np. tabelę przestawną) do pliku CSV.\n",
    "b.\tWczytaj zapisany plik i potwierdź, że dane zostały poprawnie zapisane i wczytane.\n",
    "\n"
   ],
   "metadata": {
    "collapsed": false
   },
   "id": "1eebe41b12292edf"
  },
  {
   "cell_type": "code",
   "execution_count": 304,
   "outputs": [],
   "source": [
    "#a. Zapis tabeli przestawnej ze statystykami produktów do pliku csv\n",
    "pivot_product_stats.to_csv('statystyki_produktów.csv')"
   ],
   "metadata": {
    "collapsed": false,
    "ExecuteTime": {
     "end_time": "2024-12-14T12:18:15.385358Z",
     "start_time": "2024-12-14T12:18:15.369355800Z"
    }
   },
   "id": "6af6c5cf8eeff214"
  },
  {
   "cell_type": "code",
   "execution_count": 305,
   "outputs": [
    {
     "data": {
      "text/plain": "  product_name  total_sales_amount  total_sales_value\n0   Headphones               500.0         1238797.40\n1       Laptop              1479.0         3700885.48\n2      Monitor               477.0         1149924.24\n3   Smartphone              1532.0         3904758.17\n4       Tablet              1018.0         2500036.28",
      "text/html": "<div>\n<style scoped>\n    .dataframe tbody tr th:only-of-type {\n        vertical-align: middle;\n    }\n\n    .dataframe tbody tr th {\n        vertical-align: top;\n    }\n\n    .dataframe thead th {\n        text-align: right;\n    }\n</style>\n<table border=\"1\" class=\"dataframe\">\n  <thead>\n    <tr style=\"text-align: right;\">\n      <th></th>\n      <th>product_name</th>\n      <th>total_sales_amount</th>\n      <th>total_sales_value</th>\n    </tr>\n  </thead>\n  <tbody>\n    <tr>\n      <th>0</th>\n      <td>Headphones</td>\n      <td>500.0</td>\n      <td>1238797.40</td>\n    </tr>\n    <tr>\n      <th>1</th>\n      <td>Laptop</td>\n      <td>1479.0</td>\n      <td>3700885.48</td>\n    </tr>\n    <tr>\n      <th>2</th>\n      <td>Monitor</td>\n      <td>477.0</td>\n      <td>1149924.24</td>\n    </tr>\n    <tr>\n      <th>3</th>\n      <td>Smartphone</td>\n      <td>1532.0</td>\n      <td>3904758.17</td>\n    </tr>\n    <tr>\n      <th>4</th>\n      <td>Tablet</td>\n      <td>1018.0</td>\n      <td>2500036.28</td>\n    </tr>\n  </tbody>\n</table>\n</div>"
     },
     "execution_count": 305,
     "metadata": {},
     "output_type": "execute_result"
    }
   ],
   "source": [
    "#b. Wczytanie zapisanego pliku\n",
    "write_test = pd.read_csv('statystyki_produktów.csv')\n",
    "write_test"
   ],
   "metadata": {
    "collapsed": false,
    "ExecuteTime": {
     "end_time": "2024-12-14T12:18:15.834871400Z",
     "start_time": "2024-12-14T12:18:15.788315Z"
    }
   },
   "id": "37ba84f2d05b7d3"
  },
  {
   "cell_type": "markdown",
   "source": [
    "### Zadanie 7.\tZadanie otwarte\n",
    "Wykorzystując dwa zestawy danych, które łączą informacje o klientach i ich zamówieniach:\n",
    "a.\tStwórz raport podsumowujący w formie tabeli, który zawiera:\n",
    "i.\tIdentyfikator klienta.\n",
    "ii.\tCałkowitą wartość zamówień.\n",
    "iii.\tNajczęściej kupowaną kategorię produktów.\n",
    "iv.\tProcentową wartość dużych zamówień (powyżej 1000 zł) w stosunku do wszystkich zamówień.\n",
    "b.\tZapisz raport do pliku CSV i przygotuj opis dla osoby analizującej dane.\n",
    "\n"
   ],
   "metadata": {
    "collapsed": false
   },
   "id": "f109b12476d0067d"
  },
  {
   "cell_type": "code",
   "execution_count": 309,
   "outputs": [
    {
     "data": {
      "text/plain": "    customer_id  total_order_value most_common_category  \\\n0      CUST0001           15682.63               Laptop   \n1      CUST0002            2769.42               Laptop   \n2      CUST0003           12446.39               Tablet   \n3      CUST0004            4167.72               Laptop   \n4      CUST0005            4012.99               Tablet   \n..          ...                ...                  ...   \n995    CUST0996           11783.72               Tablet   \n996    CUST0997            3002.75               Tablet   \n997    CUST0998           12751.44               Laptop   \n998    CUST0999            4670.89               Tablet   \n999    CUST1000            5751.20               Laptop   \n\n     high_value_order_percent  \n0                      100.00  \n1                       66.67  \n2                       71.43  \n3                      100.00  \n4                      100.00  \n..                        ...  \n995                    100.00  \n996                     50.00  \n997                    100.00  \n998                     75.00  \n999                    100.00  \n\n[1000 rows x 4 columns]",
      "text/html": "<div>\n<style scoped>\n    .dataframe tbody tr th:only-of-type {\n        vertical-align: middle;\n    }\n\n    .dataframe tbody tr th {\n        vertical-align: top;\n    }\n\n    .dataframe thead th {\n        text-align: right;\n    }\n</style>\n<table border=\"1\" class=\"dataframe\">\n  <thead>\n    <tr style=\"text-align: right;\">\n      <th></th>\n      <th>customer_id</th>\n      <th>total_order_value</th>\n      <th>most_common_category</th>\n      <th>high_value_order_percent</th>\n    </tr>\n  </thead>\n  <tbody>\n    <tr>\n      <th>0</th>\n      <td>CUST0001</td>\n      <td>15682.63</td>\n      <td>Laptop</td>\n      <td>100.00</td>\n    </tr>\n    <tr>\n      <th>1</th>\n      <td>CUST0002</td>\n      <td>2769.42</td>\n      <td>Laptop</td>\n      <td>66.67</td>\n    </tr>\n    <tr>\n      <th>2</th>\n      <td>CUST0003</td>\n      <td>12446.39</td>\n      <td>Tablet</td>\n      <td>71.43</td>\n    </tr>\n    <tr>\n      <th>3</th>\n      <td>CUST0004</td>\n      <td>4167.72</td>\n      <td>Laptop</td>\n      <td>100.00</td>\n    </tr>\n    <tr>\n      <th>4</th>\n      <td>CUST0005</td>\n      <td>4012.99</td>\n      <td>Tablet</td>\n      <td>100.00</td>\n    </tr>\n    <tr>\n      <th>...</th>\n      <td>...</td>\n      <td>...</td>\n      <td>...</td>\n      <td>...</td>\n    </tr>\n    <tr>\n      <th>995</th>\n      <td>CUST0996</td>\n      <td>11783.72</td>\n      <td>Tablet</td>\n      <td>100.00</td>\n    </tr>\n    <tr>\n      <th>996</th>\n      <td>CUST0997</td>\n      <td>3002.75</td>\n      <td>Tablet</td>\n      <td>50.00</td>\n    </tr>\n    <tr>\n      <th>997</th>\n      <td>CUST0998</td>\n      <td>12751.44</td>\n      <td>Laptop</td>\n      <td>100.00</td>\n    </tr>\n    <tr>\n      <th>998</th>\n      <td>CUST0999</td>\n      <td>4670.89</td>\n      <td>Tablet</td>\n      <td>75.00</td>\n    </tr>\n    <tr>\n      <th>999</th>\n      <td>CUST1000</td>\n      <td>5751.20</td>\n      <td>Laptop</td>\n      <td>100.00</td>\n    </tr>\n  </tbody>\n</table>\n<p>1000 rows × 4 columns</p>\n</div>"
     },
     "execution_count": 309,
     "metadata": {},
     "output_type": "execute_result"
    }
   ],
   "source": [
    "#a. Tworzenie nowych kolumn i raportu\n",
    "merged_data_left['high_value_order'] = merged_data_left['order_value'] > 1000 #utworzenie kolumny high_value_order, takiej samej jak w zbiorze orders_data w celu ułatwienia sporządzania raportu\n",
    "report = merged_data_left.groupby('customer_id').agg( #grupowanie po identyfikatorze klienta\n",
    "    total_order_value = ('order_value', 'sum'), #policzenie całkowitej wartości wszystkich zamówień klienta\n",
    "    most_common_category = ('product_name', lambda x: x.mode().iloc[0]), #najczęściej kupowana kategoria produktów przez klienta\n",
    "    high_value_order_percent = ( #procent dużych zamówień klienta\n",
    "        'high_value_order', lambda x: (x.sum() / x.count()) * 100\n",
    "    )\n",
    ").reset_index()\n",
    "report['total_order_value'] = report['total_order_value'].round(2)\n",
    "report['high_value_order_percent'] = report['high_value_order_percent'].round(2)\n",
    "report"
   ],
   "metadata": {
    "collapsed": false,
    "ExecuteTime": {
     "end_time": "2024-12-14T12:21:39.769664600Z",
     "start_time": "2024-12-14T12:21:39.614811100Z"
    }
   },
   "id": "3802777e5fc135f4"
  },
  {
   "cell_type": "code",
   "execution_count": 310,
   "outputs": [],
   "source": [
    "#b. Zapis raportu do pliku CSV\n",
    "report.to_csv('raport_podsumowujący.csv', index=False)"
   ],
   "metadata": {
    "collapsed": false,
    "ExecuteTime": {
     "end_time": "2024-12-14T12:21:43.560919300Z",
     "start_time": "2024-12-14T12:21:43.545911600Z"
    }
   },
   "id": "1bd63a21cc425a9"
  },
  {
   "cell_type": "markdown",
   "source": [
    "### Wnioski"
   ],
   "metadata": {
    "collapsed": false
   },
   "id": "91d2a744b71a9e0d"
  },
  {
   "cell_type": "markdown",
   "source": [
    "Laboratorium pomogło mi przećwiczyć pracę na dużych zbiorach danych, tworzenie zestawień oraz tabeli przestawnych. Znajomość SQL pomogła w ukończeniu laboratorium."
   ],
   "metadata": {
    "collapsed": false
   },
   "id": "b6f09336a227dea3"
  },
  {
   "cell_type": "code",
   "execution_count": null,
   "outputs": [],
   "source": [],
   "metadata": {
    "collapsed": false
   },
   "id": "1131ca7e7177e20d"
  }
 ],
 "metadata": {
  "kernelspec": {
   "display_name": "Python 3",
   "language": "python",
   "name": "python3"
  },
  "language_info": {
   "codemirror_mode": {
    "name": "ipython",
    "version": 2
   },
   "file_extension": ".py",
   "mimetype": "text/x-python",
   "name": "python",
   "nbconvert_exporter": "python",
   "pygments_lexer": "ipython2",
   "version": "2.7.6"
  }
 },
 "nbformat": 4,
 "nbformat_minor": 5
}
