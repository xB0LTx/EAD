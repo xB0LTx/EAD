{
 "cells": [
  {
   "cell_type": "markdown",
   "source": [
    "# Laboratorium 4: Problemy przy pracy na prawdziwych danych – część 2"
   ],
   "metadata": {
    "collapsed": false
   },
   "id": "f21a6741efb87abc"
  },
  {
   "cell_type": "markdown",
   "source": [
    "## Marcin Ogórkiewicz 120674, grupa 1"
   ],
   "metadata": {
    "collapsed": false
   },
   "id": "5982c96e27b3afe8"
  },
  {
   "cell_type": "markdown",
   "source": [
    "### Zadanie 1: Zastępowanie nazw kolumn\n",
    "Wczytaj dane z dołączonego pliku, a następnie zastąp wszystkie duże litery w nazwach\n",
    "kolumn małymi. Wyświetl pierwsze pięć wierszy za pomocą metody pd.DataFrame.head() i\n",
    "funkcji print().\n",
    "\n"
   ],
   "metadata": {
    "collapsed": false
   },
   "id": "2b53cb65b1fc8c69"
  },
  {
   "cell_type": "code",
   "execution_count": 157,
   "outputs": [
    {
     "name": "stdout",
     "output_type": "stream",
     "text": [
      "   unnamed: 0                              name    location  year  \\\n",
      "0           0            Maruti Wagon R LXI CNG      Mumbai  2010   \n",
      "1           1  Hyundai Creta 1.6 CRDi SX Option        Pune  2015   \n",
      "2           2                      Honda Jazz V     Chennai  2011   \n",
      "3           3                 Maruti Ertiga VDI     Chennai  2012   \n",
      "4           4   Audi A4 New 2.0 TDI Multitronic  Coimbatore  2013   \n",
      "\n",
      "   kilometers_driven fuel_type transmission owner_type     mileage   engine  \\\n",
      "0              72000       CNG       Manual      First  26.6 km/kg   998 CC   \n",
      "1              41000    Diesel       Manual      First  19.67 kmpl  1582 CC   \n",
      "2              46000    Petrol       Manual      First   18.2 kmpl  1199 CC   \n",
      "3              87000    Diesel       Manual      First  20.77 kmpl  1248 CC   \n",
      "4              40670    Diesel    Automatic     Second   15.2 kmpl  1968 CC   \n",
      "\n",
      "       power  seats  new_price  price  \n",
      "0  58.16 bhp    5.0        NaN   1.75  \n",
      "1  126.2 bhp    5.0        NaN  12.50  \n",
      "2   88.7 bhp    5.0  8.61 Lakh   4.50  \n",
      "3  88.76 bhp    7.0        NaN   6.00  \n",
      "4  140.8 bhp    5.0        NaN  17.74  \n"
     ]
    }
   ],
   "source": [
    "import pandas as pd\n",
    "from sklearn.preprocessing import LabelEncoder, OneHotEncoder\n",
    "csv = pd.read_csv('data (1).csv') #sczytanie pliku do DF o nazwie csv\n",
    "csv.columns = map(str.lower, csv.columns) #zmiana wszystkich liter nazw kolumn na małe\n",
    "print(csv.head()) "
   ],
   "metadata": {
    "collapsed": false,
    "ExecuteTime": {
     "end_time": "2024-12-14T19:15:40.714954700Z",
     "start_time": "2024-12-14T19:15:40.665553200Z"
    }
   },
   "id": "4d1c5329a46b727c"
  },
  {
   "cell_type": "markdown",
   "source": [
    "### Zadanie 2: Konwersja typu danych\n",
    "Wczytaj dane z dołączonego pliku, a następnie spójrz na rozkład zmiennej engine. Zauważ,\n",
    "że zmienna engine jest typu object. Usuń ostatnie 3 znaki z każdego elementu tej zmiennej i\n",
    "przekonwertuj na typ int. Wydrukuj pierwsze pięć wierszy za pomocą metody\n",
    "pd.DataFrame.head() i funkcji print() z kolumn: name oraz engine.\n",
    "\n"
   ],
   "metadata": {
    "collapsed": false
   },
   "id": "6c0c726a7d81a3f3"
  },
  {
   "cell_type": "code",
   "execution_count": 158,
   "outputs": [
    {
     "data": {
      "text/plain": "engine\n1197 CC    606\n1248 CC    512\n1498 CC    304\n998 CC     259\n2179 CC    240\n          ... \n2999 CC      1\n2147 CC      1\n2495 CC      1\n3200 CC      1\n1797 CC      1\nName: count, Length: 146, dtype: int64"
     },
     "execution_count": 158,
     "metadata": {},
     "output_type": "execute_result"
    }
   ],
   "source": [
    "csv['engine'].value_counts() #rozkład zmiennej engine"
   ],
   "metadata": {
    "collapsed": false,
    "ExecuteTime": {
     "end_time": "2024-12-14T19:15:41.858664400Z",
     "start_time": "2024-12-14T19:15:41.835614Z"
    }
   },
   "id": "57ff22a95f786900"
  },
  {
   "cell_type": "code",
   "execution_count": 159,
   "outputs": [
    {
     "name": "stdout",
     "output_type": "stream",
     "text": [
      "                               name  engine\n",
      "0            Maruti Wagon R LXI CNG     998\n",
      "1  Hyundai Creta 1.6 CRDi SX Option    1582\n",
      "2                      Honda Jazz V    1199\n",
      "3                 Maruti Ertiga VDI    1248\n",
      "4   Audi A4 New 2.0 TDI Multitronic    1968\n"
     ]
    }
   ],
   "source": [
    "csv.engine = csv.engine.str[:-3] #przycięcie ciągów znaków\n",
    "csv['engine'] = csv['engine'].fillna('0').astype(int) #wypełnienie pustych pól zerami przed konwersją\n",
    "print(csv[['name', 'engine']].head()) "
   ],
   "metadata": {
    "collapsed": false,
    "ExecuteTime": {
     "end_time": "2024-12-14T19:15:42.293778400Z",
     "start_time": "2024-12-14T19:15:42.262519800Z"
    }
   },
   "id": "bf069f3c122143e9"
  },
  {
   "cell_type": "markdown",
   "source": [
    "### Zadanie 3: Mapowanie wartości\n",
    "Wczytaj dane z dołączonego pliku, a następnie sprawdź rozkład zmiennej transmission i\n",
    "wykonaj następujące mapowanie tej zmiennej:\n",
    "● Manual -> 0\n",
    "● Automatic -> 1\n",
    "Wydrukuj pierwsze pięć wierszy zmiennej transmission za pomocą metody\n",
    "pd.DataFrame.head() i funkcji print().\n",
    "\n"
   ],
   "metadata": {
    "collapsed": false
   },
   "id": "f95a218315bdfd54"
  },
  {
   "cell_type": "code",
   "execution_count": 131,
   "outputs": [
    {
     "data": {
      "text/plain": "transmission\nManual       4299\nAutomatic    1720\nName: count, dtype: int64"
     },
     "execution_count": 131,
     "metadata": {},
     "output_type": "execute_result"
    }
   ],
   "source": [
    "csv['transmission'].value_counts() #rozkład zmiennej transmission"
   ],
   "metadata": {
    "collapsed": false,
    "ExecuteTime": {
     "end_time": "2024-12-14T18:58:01.139163600Z",
     "start_time": "2024-12-14T18:58:01.105904300Z"
    }
   },
   "id": "6c4c276db3c2e73b"
  },
  {
   "cell_type": "code",
   "execution_count": 132,
   "outputs": [
    {
     "name": "stdout",
     "output_type": "stream",
     "text": [
      "0    0\n",
      "1    0\n",
      "2    0\n",
      "3    0\n",
      "4    1\n",
      "Name: transmission, dtype: int64\n"
     ]
    }
   ],
   "source": [
    "csv['transmission'] = csv['transmission'].map({'Manual': 0, 'Automatic': 1}) #mapowanie wartości zgodnie z poleceniem\n",
    "print(csv['transmission'].head())"
   ],
   "metadata": {
    "collapsed": false,
    "ExecuteTime": {
     "end_time": "2024-12-14T18:58:02.236251800Z",
     "start_time": "2024-12-14T18:58:02.223713400Z"
    }
   },
   "id": "91d677c68b3692fc"
  },
  {
   "cell_type": "markdown",
   "source": [
    "### Zadanie 4: Mapowanie wartości z wykorzystaniem Label Encoding i One Hot Encoding z biblioteki scikit-learn\n",
    "Wczytaj dane z dołączonego pliku, a następnie sprawdź rozkład zmiennej transmission i wykonaj następujące mapowanie tej zmiennej z wykorzystaniem Label Encoding i One Hot Encoding z biblioteki scikit-learn. Wydrukuj pierwsze pięć wierszy zmiennej transmission za pomocą metody pd.DataFrame.head() i funkcji print() dla każdego z mapowań oraz opisz, jakie są w nich różnice.\n",
    "\n"
   ],
   "metadata": {
    "collapsed": false
   },
   "id": "80fd474c6575f806"
  },
  {
   "cell_type": "code",
   "execution_count": 147,
   "outputs": [
    {
     "data": {
      "text/plain": "transmission\nManual       4299\nAutomatic    1720\nName: count, dtype: int64"
     },
     "execution_count": 147,
     "metadata": {},
     "output_type": "execute_result"
    }
   ],
   "source": [
    "csv['transmission'].value_counts() #rozkład zmiennej transmission"
   ],
   "metadata": {
    "collapsed": false,
    "ExecuteTime": {
     "end_time": "2024-12-14T19:00:54.848412100Z",
     "start_time": "2024-12-14T19:00:54.834018300Z"
    }
   },
   "id": "eedac10aa8821f92"
  },
  {
   "cell_type": "markdown",
   "source": [
    "Label Encoding"
   ],
   "metadata": {
    "collapsed": false
   },
   "id": "64260e4647988c89"
  },
  {
   "cell_type": "code",
   "execution_count": 148,
   "outputs": [
    {
     "name": "stdout",
     "output_type": "stream",
     "text": [
      "  transmission  transmission_label_encoding\n",
      "0       Manual                            1\n",
      "1       Manual                            1\n",
      "2       Manual                            1\n",
      "3       Manual                            1\n",
      "4    Automatic                            0\n"
     ]
    }
   ],
   "source": [
    "label_encoder = LabelEncoder() #tworzenie obiektu LabelEncoder do kodowania kategorii\n",
    "csv['transmission_label_encoding'] = label_encoder.fit_transform(csv['transmission']) #zamiena tekstowych etykiet na liczby i zapisanie w nowej kolumnie\n",
    "print(csv[['transmission', 'transmission_label_encoding']].head()) "
   ],
   "metadata": {
    "collapsed": false,
    "ExecuteTime": {
     "end_time": "2024-12-14T19:01:42.343719Z",
     "start_time": "2024-12-14T19:01:42.328433800Z"
    }
   },
   "id": "d3c07ec186c6f443"
  },
  {
   "cell_type": "markdown",
   "source": [
    "One Hot Encoding"
   ],
   "metadata": {
    "collapsed": false
   },
   "id": "31ce082057cbf01a"
  },
  {
   "cell_type": "code",
   "execution_count": 160,
   "outputs": [
    {
     "name": "stdout",
     "output_type": "stream",
     "text": [
      "  transmission  transmission_Automatic  transmission_Manual\n",
      "0       Manual                     0.0                  1.0\n",
      "1       Manual                     0.0                  1.0\n",
      "2       Manual                     0.0                  1.0\n",
      "3       Manual                     0.0                  1.0\n",
      "4    Automatic                     1.0                  0.0\n"
     ]
    }
   ],
   "source": [
    "one_hot_encoder = OneHotEncoder(sparse_output=False)  #tworzenie obiektu OneHotEncoder z wyłączeniem sparse_output, w celu otrzymania gęstej macierzy NumPy\n",
    "transmission_one_hot = one_hot_encoder.fit_transform(csv[['transmission']])  #zastosowanie OneHotEncoder na kolumnie 'transmission'\n",
    "transmission_one_hot_df = pd.DataFrame(  #tworzenie DataFrame z wyników OneHotEncoder\n",
    "    transmission_one_hot, \n",
    "    columns=one_hot_encoder.get_feature_names_out(['transmission'])  #nadanie nazw kolumn zgodnych z etykietami\n",
    ")\n",
    "csv = pd.concat([csv, transmission_one_hot_df], axis=1)  #połączenie oryginalnego DataFrame z nowymi kolumnami\n",
    "print(csv[['transmission', 'transmission_Automatic', 'transmission_Manual']].head())"
   ],
   "metadata": {
    "collapsed": false,
    "ExecuteTime": {
     "end_time": "2024-12-14T19:15:46.987166600Z",
     "start_time": "2024-12-14T19:15:46.967060300Z"
    }
   },
   "id": "101fde50cbab57f7"
  },
  {
   "cell_type": "markdown",
   "source": [
    "Różnica pomiędzy LabelEncoder oraz OneHotEncoder polega na tym, że LabelEncoder mapuje dane według tej samej zasady, co w zadaniu trzecim. Przypisuje do każdej unikalnej wartości jedną liczbę. OneHotEncoder zamiast tego zamienia każdą unikalną wartość w wektor matematyczny, tworząc w tym przypadku dwie kolumny, które dla każdego wiersza przyjmują wartości [0,1] bądź [1,0]."
   ],
   "metadata": {
    "collapsed": false
   },
   "id": "cffab11f5a030f3a"
  },
  {
   "cell_type": "markdown",
   "source": [
    "### Wnioski"
   ],
   "metadata": {
    "collapsed": false
   },
   "id": "91d2a744b71a9e0d"
  },
  {
   "cell_type": "markdown",
   "source": [
    "W trakcie laboratorium przećwiczyłem manipulację i korektę danych oraz poznałem 3 sposoby mapowania danych. Szczególnie zaciekawił mnie OneHotEncoder, ze względu na mechanizm jego działania."
   ],
   "metadata": {
    "collapsed": false
   },
   "id": "b6f09336a227dea3"
  },
  {
   "cell_type": "code",
   "execution_count": null,
   "outputs": [],
   "source": [],
   "metadata": {
    "collapsed": false
   },
   "id": "1131ca7e7177e20d"
  }
 ],
 "metadata": {
  "kernelspec": {
   "display_name": "Python 3",
   "language": "python",
   "name": "python3"
  },
  "language_info": {
   "codemirror_mode": {
    "name": "ipython",
    "version": 2
   },
   "file_extension": ".py",
   "mimetype": "text/x-python",
   "name": "python",
   "nbconvert_exporter": "python",
   "pygments_lexer": "ipython2",
   "version": "2.7.6"
  }
 },
 "nbformat": 4,
 "nbformat_minor": 5
}
