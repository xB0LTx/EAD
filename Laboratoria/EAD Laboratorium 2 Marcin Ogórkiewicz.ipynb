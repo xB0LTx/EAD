{
 "cells": [
  {
   "cell_type": "markdown",
   "id": "baf3d67c-bd1e-4ae5-9432-7ebd23d0f68f",
   "metadata": {},
   "source": [
    "# Laboratorium 2: Problemy przy pracy na prawdziwych danych"
   ]
  },
  {
   "cell_type": "markdown",
   "id": "16701f0f-02f8-4c6b-8add-9de711a8ec19",
   "metadata": {},
   "source": [
    "## Marcin Ogórkiewicz 120674, grupa 1"
   ]
  },
  {
   "cell_type": "markdown",
   "id": "17191145-497c-4616-844b-454ed9c498f3",
   "metadata": {},
   "source": [
    "### Zadanie 1.\n",
    "Znajdowanie brakujących wartości i ich obsługa\n",
    "Wczytaj dane z pliku CSV i przeanalizuj, czy w zestawie danych występują brakujące wartości. Wykorzystaj metodę isnull() oraz sum(), aby określić, które kolumny zawierają najwięcej brakujących danych. Następnie wyświetl procent brakujących wartości dla każdej kolumny. Kolejnym krokiem jest wybór odpowiedniej metody obsługi braków – uzupełnij wartości średnią (dla danych liczbowych), najczęściej występującą wartością (dla danych kategorycznych), a także usuń wszystkie wiersze zawierające więcej niż 50% braków."
   ]
  },
  {
   "cell_type": "code",
   "execution_count": 117,
   "id": "39dcb6a4-de10-40d0-b4fa-ad452978510d",
   "metadata": {
    "ExecuteTime": {
     "end_time": "2024-12-12T17:27:13.985066800Z",
     "start_time": "2024-12-12T17:27:13.741254900Z"
    }
   },
   "outputs": [
    {
     "data": {
      "text/plain": "kolumna\nnazwa             0.000000\ncena              1.202405\nilość             1.101101\nkategoria         0.000000\ndata_sprzedaży    0.198413\nName: % na, dtype: float64"
     },
     "execution_count": 117,
     "metadata": {},
     "output_type": "execute_result"
    }
   ],
   "source": [
    "import pandas as pd\n",
    "import numpy as np\n",
    "from scipy.stats import zscore\n",
    "csv = pd.read_csv(\"dane_z_problemami.csv\") #sczytywanie danych z pliku .csv\n",
    "empty_cells_pcent = (csv.isnull().sum()/csv.count())*100 #procent brakujących danych w kolumnie\n",
    "empty_cells_pcent.index.name = \"kolumna\" # ustawienie nazwy indeksu\n",
    "empty_cells_pcent.name = \"% na\" #ustawienie nazawy wartości   \n",
    "empty_cells_pcent"
   ]
  },
  {
   "cell_type": "code",
   "execution_count": 118,
   "id": "2eba47d2-a70b-4d24-812f-0847d534c535",
   "metadata": {
    "ExecuteTime": {
     "end_time": "2024-12-12T17:27:13.989064200Z",
     "start_time": "2024-12-12T17:27:13.768235500Z"
    }
   },
   "outputs": [
    {
     "data": {
      "text/plain": "kolumna\nnazwa             0.0\ncena              0.0\nilość             0.0\nkategoria         0.0\ndata_sprzedaży    0.0\nName: % na, dtype: float64"
     },
     "execution_count": 118,
     "metadata": {},
     "output_type": "execute_result"
    }
   ],
   "source": [
    "csv = csv.dropna(thresh = csv.shape[1] / 2) # Usunięcie wierszy z ponad 50% braków\n",
    "values = {\"cena\" : np.mean(csv[\"cena\"]), \"ilość\" : np.mean(csv[\"ilość\"]), \"data_sprzedaży\" : csv['data_sprzedaży'].value_counts().idxmax()} #słownik uzupełniający brakujące wartości\n",
    "csv = csv.fillna(value=values) #uzupełnienie brakujących wartości\n",
    "empty_cells_pcent = (csv.isnull().sum()/csv.count())*100 #procent brakujących danych w kolumnie\n",
    "empty_cells_pcent.index.name = \"kolumna\" #ustawienie nazwy indeksu\n",
    "empty_cells_pcent.name = \"% na\" #ustawienie nazwy wartości   \n",
    "empty_cells_pcent"
   ]
  },
  {
   "cell_type": "markdown",
   "id": "c56aa4bc-5d03-4178-ae2f-b9496846f5d5",
   "metadata": {},
   "source": [
    "### Zadanie 2.\n",
    "Usuwanie duplikatów\n",
    "Zidentyfikuj i usuń duplikaty w danych. Najpierw użyj metody duplicated() oraz sum(), aby policzyć liczbę powtarzających się wierszy. Następnie usuń duplikaty za pomocą drop_duplicates(). Po wykonaniu tej operacji sprawdź, czy liczba wierszy w DataFrame zmniejszyła się zgodnie z oczekiwaniami."
   ]
  },
  {
   "cell_type": "code",
   "execution_count": 119,
   "id": "a7e62a44-83a7-439d-ba6b-c5100521d44f",
   "metadata": {
    "ExecuteTime": {
     "end_time": "2024-12-12T17:27:13.998610400Z",
     "start_time": "2024-12-12T17:27:13.783241Z"
    }
   },
   "outputs": [
    {
     "data": {
      "text/plain": "10"
     },
     "execution_count": 119,
     "metadata": {},
     "output_type": "execute_result"
    }
   ],
   "source": [
    "csv.duplicated().sum() #ilość duplikatów"
   ]
  },
  {
   "cell_type": "code",
   "execution_count": 120,
   "outputs": [
    {
     "data": {
      "text/plain": "0"
     },
     "execution_count": 120,
     "metadata": {},
     "output_type": "execute_result"
    }
   ],
   "source": [
    "csv = csv.drop_duplicates() #usunięcie duplikatów\n",
    "csv.duplicated().sum() #ilość duplikatów"
   ],
   "metadata": {
    "collapsed": false,
    "ExecuteTime": {
     "end_time": "2024-12-12T17:27:14.001573900Z",
     "start_time": "2024-12-12T17:27:13.798752600Z"
    }
   },
   "id": "e735acf8bbdbc51d"
  },
  {
   "cell_type": "markdown",
   "id": "6d9b1bd8-2608-4c9a-818e-ab6a6c1cb95c",
   "metadata": {},
   "source": [
    "### Zadanie 3.\n",
    "Identyfikacja i obsługa wartości odstających\n",
    "Przeanalizuj dane pod kątem wartości odstających. Skorzystaj z metody describe(), aby sprawdzić, czy w kolumnach liczbowych występują wartości, które znacznie odbiegają od reszty danych (np. wartości maksymalne). Wybierz jedną z kolumn, w której odchylenia są najbardziej widoczne, a następnie zastosuj z-score lub metodę międzykwartylową (IQR), aby wykryć wartości odstające. Usuń wiersze z wartościami odstającymi z wybranej kolumny."
   ]
  },
  {
   "cell_type": "code",
   "execution_count": 121,
   "id": "6256f4cd-ad2f-4e9b-b55d-43dad4845dd2",
   "metadata": {
    "ExecuteTime": {
     "end_time": "2024-12-12T17:27:14.009608700Z",
     "start_time": "2024-12-12T17:27:13.814751200Z"
    }
   },
   "outputs": [
    {
     "data": {
      "text/plain": "kolumna         cena        ilość\ncount    1000.000000  1000.000000\nmean      280.043618   492.250798\nstd       142.904745   267.708894\nmin         6.000000    19.000000\n25%       160.312500   261.000000\n50%       288.850000   476.000000\n75%       410.920000   666.000000\nmax       499.930000   985.000000",
      "text/html": "<div>\n<style scoped>\n    .dataframe tbody tr th:only-of-type {\n        vertical-align: middle;\n    }\n\n    .dataframe tbody tr th {\n        vertical-align: top;\n    }\n\n    .dataframe thead th {\n        text-align: right;\n    }\n</style>\n<table border=\"1\" class=\"dataframe\">\n  <thead>\n    <tr style=\"text-align: right;\">\n      <th>kolumna</th>\n      <th>cena</th>\n      <th>ilość</th>\n    </tr>\n  </thead>\n  <tbody>\n    <tr>\n      <th>count</th>\n      <td>1000.000000</td>\n      <td>1000.000000</td>\n    </tr>\n    <tr>\n      <th>mean</th>\n      <td>280.043618</td>\n      <td>492.250798</td>\n    </tr>\n    <tr>\n      <th>std</th>\n      <td>142.904745</td>\n      <td>267.708894</td>\n    </tr>\n    <tr>\n      <th>min</th>\n      <td>6.000000</td>\n      <td>19.000000</td>\n    </tr>\n    <tr>\n      <th>25%</th>\n      <td>160.312500</td>\n      <td>261.000000</td>\n    </tr>\n    <tr>\n      <th>50%</th>\n      <td>288.850000</td>\n      <td>476.000000</td>\n    </tr>\n    <tr>\n      <th>75%</th>\n      <td>410.920000</td>\n      <td>666.000000</td>\n    </tr>\n    <tr>\n      <th>max</th>\n      <td>499.930000</td>\n      <td>985.000000</td>\n    </tr>\n  </tbody>\n</table>\n</div>"
     },
     "execution_count": 121,
     "metadata": {},
     "output_type": "execute_result"
    }
   ],
   "source": [
    "csv.describe()"
   ]
  },
  {
   "cell_type": "markdown",
   "source": [
    "Odchylenia są najbardziej widoczne w kolumnie ilość"
   ],
   "metadata": {
    "collapsed": false
   },
   "id": "57cf2c7414d255ab"
  },
  {
   "cell_type": "code",
   "execution_count": 122,
   "outputs": [
    {
     "data": {
      "text/plain": "kolumna         cena        ilość\ncount    1000.000000  1000.000000\nmean      280.043618   492.250798\nstd       142.904745   267.708894\nmin         6.000000    19.000000\n25%       160.312500   261.000000\n50%       288.850000   476.000000\n75%       410.920000   666.000000\nmax       499.930000   985.000000",
      "text/html": "<div>\n<style scoped>\n    .dataframe tbody tr th:only-of-type {\n        vertical-align: middle;\n    }\n\n    .dataframe tbody tr th {\n        vertical-align: top;\n    }\n\n    .dataframe thead th {\n        text-align: right;\n    }\n</style>\n<table border=\"1\" class=\"dataframe\">\n  <thead>\n    <tr style=\"text-align: right;\">\n      <th>kolumna</th>\n      <th>cena</th>\n      <th>ilość</th>\n    </tr>\n  </thead>\n  <tbody>\n    <tr>\n      <th>count</th>\n      <td>1000.000000</td>\n      <td>1000.000000</td>\n    </tr>\n    <tr>\n      <th>mean</th>\n      <td>280.043618</td>\n      <td>492.250798</td>\n    </tr>\n    <tr>\n      <th>std</th>\n      <td>142.904745</td>\n      <td>267.708894</td>\n    </tr>\n    <tr>\n      <th>min</th>\n      <td>6.000000</td>\n      <td>19.000000</td>\n    </tr>\n    <tr>\n      <th>25%</th>\n      <td>160.312500</td>\n      <td>261.000000</td>\n    </tr>\n    <tr>\n      <th>50%</th>\n      <td>288.850000</td>\n      <td>476.000000</td>\n    </tr>\n    <tr>\n      <th>75%</th>\n      <td>410.920000</td>\n      <td>666.000000</td>\n    </tr>\n    <tr>\n      <th>max</th>\n      <td>499.930000</td>\n      <td>985.000000</td>\n    </tr>\n  </tbody>\n</table>\n</div>"
     },
     "execution_count": 122,
     "metadata": {},
     "output_type": "execute_result"
    }
   ],
   "source": [
    "z_scores = zscore(csv[\"ilość\"]) #obliczanie z-score dla kolumny 'ilość'\n",
    "threshold = 3 #definiowanie progu dla wartości odstających (z-score > 3 lub < -3)\n",
    "csv = csv[(z_scores < threshold) & (z_scores > -threshold)] #usunięcie wierszy z wartościami odstającymi w kolumnie 'ilość'\n",
    "csv.describe()"
   ],
   "metadata": {
    "collapsed": false,
    "ExecuteTime": {
     "end_time": "2024-12-12T17:27:14.013575100Z",
     "start_time": "2024-12-12T17:27:13.829752100Z"
    }
   },
   "id": "e57262d4b50f68bb"
  },
  {
   "cell_type": "markdown",
   "source": [
    "Nic nie usunięto, ponieważ żadna wartość nie znajduje się 3 odchylenia standardowe od średniej"
   ],
   "metadata": {
    "collapsed": false
   },
   "id": "54ba857fbdaefc7b"
  },
  {
   "cell_type": "markdown",
   "id": "a2c1b114-a036-4dbf-a598-d0cc18e504ac",
   "metadata": {},
   "source": [
    "### Zadanie 4.\n",
    "Korekcja błędów typograficznych i formatowania\n",
    "Sprawdź, czy w kolumnach tekstowych występują różne formaty lub błędy typograficzne. Na przykład w kolumnie kategoria mogą występować różne zapisy tego samego słowa, np. „Spożywcze” i „spozywcze”. Skorzystaj z metod takich jak str.lower() lub str.capitalize() oraz funkcji replace() w pandas, aby znormalizować format tekstowy."
   ]
  },
  {
   "cell_type": "code",
   "execution_count": 123,
   "id": "50539ada-1e4b-471e-8a18-e3fecc9e754b",
   "metadata": {
    "ExecuteTime": {
     "end_time": "2024-12-12T17:27:14.014612200Z",
     "start_time": "2024-12-12T17:27:13.859754800Z"
    }
   },
   "outputs": [
    {
     "data": {
      "text/plain": "array(['elektronika', 'odzież', 'spożywcze', 'sportowe', 'domowe'],\n      dtype=object)"
     },
     "execution_count": 123,
     "metadata": {},
     "output_type": "execute_result"
    }
   ],
   "source": [
    "csv[\"kategoria\"] = csv[\"kategoria\"].str.lower()  #zmiana wszystkich liter na małe\n",
    "csv[\"kategoria\"] = csv[\"kategoria\"].str.strip() #usuwanie zbędnych spacji\n",
    "csv[\"kategoria\"] = csv[\"kategoria\"].str.replace('spozywcze', 'spożywcze')  #zastępowanie błędów typograficznych\n",
    "csv[\"kategoria\"].unique() #sprawdzenie, czy teraz wszystkie kategorie są poprawnie ponazywane"
   ]
  },
  {
   "cell_type": "markdown",
   "id": "f5d502f5-5a9d-4ae8-a1ff-bdda88037706",
   "metadata": {},
   "source": [
    "### Zadanie 5.\n",
    "Konwersja typów danych\n",
    "Sprawdź typy danych w każdej kolumnie za pomocą metody dtypes. Zidentyfikuj kolumny, w których typy danych nie są zgodne z oczekiwanymi – na przykład, jeśli kolumna cena została wczytana jako typ tekstowy (object), skonwertuj ją na typ liczbowy (float). Dodatkowo, zmień format daty w kolumnie data_sprzedaży na standardowy format datetime, korzystając z pd.to_datetime()."
   ]
  },
  {
   "cell_type": "code",
   "execution_count": 124,
   "id": "a3ff6822-f433-40f8-a89c-ea0d39727399",
   "metadata": {
    "ExecuteTime": {
     "end_time": "2024-12-12T17:27:14.022610600Z",
     "start_time": "2024-12-12T17:27:13.876760700Z"
    }
   },
   "outputs": [
    {
     "data": {
      "text/plain": "kolumna\nnazwa              object\ncena              float64\nilość             float64\nkategoria          object\ndata_sprzedaży     object\ndtype: object"
     },
     "execution_count": 124,
     "metadata": {},
     "output_type": "execute_result"
    }
   ],
   "source": [
    "csv.dtypes"
   ]
  },
  {
   "cell_type": "markdown",
   "source": [
    "Ilość powinna być liczbą całkowitą, a data powinna być typem datetime"
   ],
   "metadata": {
    "collapsed": false
   },
   "id": "19e70d67266ada78"
  },
  {
   "cell_type": "code",
   "execution_count": 125,
   "outputs": [
    {
     "data": {
      "text/plain": "kolumna\nnazwa                     object\ncena                     float64\nilość                      int32\nkategoria                 object\ndata_sprzedaży    datetime64[ns]\ndtype: object"
     },
     "execution_count": 125,
     "metadata": {},
     "output_type": "execute_result"
    }
   ],
   "source": [
    "csv['ilość'] = csv['ilość'].astype('int') #konwersja kolumny 'ilość' z float64 na int\n",
    "csv['data_sprzedaży'] = pd.to_datetime(csv['data_sprzedaży'], errors='coerce')  #konwersja kolumny \"data_sprzedaży\" na typ datetime\n",
    "csv.dtypes"
   ],
   "metadata": {
    "collapsed": false,
    "ExecuteTime": {
     "end_time": "2024-12-12T17:27:14.023575800Z",
     "start_time": "2024-12-12T17:27:13.892059800Z"
    }
   },
   "id": "86e7bf2ecdce49a2"
  },
  {
   "cell_type": "markdown",
   "id": "908a2e74-83a1-46dc-b371-cf9f6ba0ffd7",
   "metadata": {},
   "source": [
    "### Zadanie 6.\n",
    "Uzupełnianie brakujących danych przy użyciu interpolacji\n",
    "Wybierz kolumnę liczbową z brakującymi wartościami i uzupełnij te braki, stosując interpolację (np. metodę liniową). Przeanalizuj, jak zmieniają się wyniki analizy po zastosowaniu interpolacji, porównując je z poprzednimi wynikami."
   ]
  },
  {
   "cell_type": "code",
   "execution_count": 126,
   "id": "f76edde3-e35c-4586-972d-e1edb78c287b",
   "metadata": {
    "ExecuteTime": {
     "end_time": "2024-12-12T17:27:14.024610400Z",
     "start_time": "2024-12-12T17:27:13.909058500Z"
    }
   },
   "outputs": [
    {
     "data": {
      "text/plain": "count    1000.000000\nmean      492.242000\nstd       267.708889\nmin        19.000000\n25%       261.000000\n50%       476.000000\n75%       666.000000\nmax       985.000000\nName: ilość, dtype: float64"
     },
     "execution_count": 126,
     "metadata": {},
     "output_type": "execute_result"
    }
   ],
   "source": [
    "csv['ilość'].describe()"
   ]
  },
  {
   "cell_type": "code",
   "execution_count": 127,
   "outputs": [
    {
     "data": {
      "text/plain": "count    1000.000000\nmean      492.242000\nstd       267.708889\nmin        19.000000\n25%       261.000000\n50%       476.000000\n75%       666.000000\nmax       985.000000\nName: ilość, dtype: float64"
     },
     "execution_count": 127,
     "metadata": {},
     "output_type": "execute_result"
    }
   ],
   "source": [
    "csv['ilość'] = csv['ilość'].interpolate(method='linear') #interpolacja przy użyciu metody liniowej\n",
    "csv['ilość'].describe()"
   ],
   "metadata": {
    "collapsed": false,
    "ExecuteTime": {
     "end_time": "2024-12-12T17:27:14.024610400Z",
     "start_time": "2024-12-12T17:27:13.924060300Z"
    }
   },
   "id": "70b09f5e1f9704eb"
  },
  {
   "cell_type": "markdown",
   "source": [
    "Statystyki się nie zmieniły, ponieważ nie było braków w kolumnie, wszystkie kolumny są wypełnione od zadania 1"
   ],
   "metadata": {
    "collapsed": false
   },
   "id": "45846c32cbcaf0dc"
  },
  {
   "cell_type": "markdown",
   "id": "4454a537-38c2-4d58-adc7-ccef7791eb84",
   "metadata": {},
   "source": [
    "### Zadanie 7.\n",
    "Obsługa danych niezgodnych z formatem lub zakresem\n",
    "Zidentyfikuj wiersze, w których wartości w kolumnie cena przekraczają określony zakres – na przykład większe niż 500 lub mniejsze niż 5. Zastosuj funkcję clip(), aby ograniczyć wartości do zakresu 5–500. Następnie przeanalizuj, w jaki sposób taka korekta wpływa na wyniki obliczeń statystycznych."
   ]
  },
  {
   "cell_type": "code",
   "execution_count": 128,
   "id": "ce772d72-b92e-430e-a31b-f847de192bcb",
   "metadata": {
    "ExecuteTime": {
     "end_time": "2024-12-12T17:27:14.024610400Z",
     "start_time": "2024-12-12T17:27:13.939064900Z"
    }
   },
   "outputs": [
    {
     "data": {
      "text/plain": "count    1000.000000\nmean      280.043618\nstd       142.904745\nmin         6.000000\n25%       160.312500\n50%       288.850000\n75%       410.920000\nmax       499.930000\nName: cena, dtype: float64"
     },
     "execution_count": 128,
     "metadata": {},
     "output_type": "execute_result"
    }
   ],
   "source": [
    "csv['cena'].describe()"
   ]
  },
  {
   "cell_type": "code",
   "execution_count": 129,
   "outputs": [
    {
     "data": {
      "text/plain": "count    1000.000000\nmean      280.043618\nstd       142.904745\nmin         6.000000\n25%       160.312500\n50%       288.850000\n75%       410.920000\nmax       499.930000\nName: cena, dtype: float64"
     },
     "execution_count": 129,
     "metadata": {},
     "output_type": "execute_result"
    }
   ],
   "source": [
    "csv['cena'] = csv['cena'].clip(lower=5, upper=500) #przycięcie cen\n",
    "csv['cena'].describe()"
   ],
   "metadata": {
    "collapsed": false,
    "ExecuteTime": {
     "end_time": "2024-12-12T17:27:14.024610400Z",
     "start_time": "2024-12-12T17:27:13.954058900Z"
    }
   },
   "id": "3ba43ee440332817"
  },
  {
   "cell_type": "markdown",
   "source": [
    "Statystyki się nie zmieniły, gdyż ceny już wcześniej były większe od 5 i mniejsze od 500"
   ],
   "metadata": {
    "collapsed": false
   },
   "id": "f2d8f4056580f1c1"
  },
  {
   "cell_type": "markdown",
   "id": "7a12e4e4-d171-4a22-8fa0-15fbb2974a54",
   "metadata": {},
   "source": [
    "### Zadanie 8.\n",
    "Zapis oczyszczonych danych\n",
    "Na koniec zapisz oczyszczone i przekształcone dane do nowego pliku CSV. Upewnij się, że nowe dane nie zawierają braków, duplikatów ani nieprawidłowych formatów. Zapisz plik z nowymi nazwami kolumn lub ze zaktualizowanymi formatami danych, co ułatwi dalszą analizę i pracę na tych danych."
   ]
  },
  {
   "cell_type": "code",
   "execution_count": 130,
   "id": "dacba315-9cfb-44e4-a564-ea6dab01ac5b",
   "metadata": {
    "ExecuteTime": {
     "end_time": "2024-12-12T17:27:14.025607800Z",
     "start_time": "2024-12-12T17:27:13.970059500Z"
    }
   },
   "outputs": [],
   "source": [
    "csv['cena'] = csv['cena'].round(2) #zaokrąglanie wartości do dwóch miejsc po przecinku w kolumnie cena, ponieważ przy pierwszej próbie niektóre z cen miały 8 cyfr po przecinku\n",
    "csv.to_csv('oczyszczone_dane.csv', index=False)"
   ]
  },
  {
   "cell_type": "markdown",
   "id": "34150685-a890-4139-8e48-c50c2c5ced72",
   "metadata": {},
   "source": [
    "### Wnioski"
   ]
  },
  {
   "cell_type": "markdown",
   "source": [
    "Laboratorium nauczyło mnie pracy na danych surowych. Miałem okazję poćwiczyć ich obróbkę oraz analizę. Niektóre zadania trochę zbiły mnie z tropu, ponieważ nie wprowadzały zmian do danych."
   ],
   "metadata": {
    "collapsed": false
   },
   "id": "493a9d7c194ac020"
  }
 ],
 "metadata": {
  "kernelspec": {
   "display_name": "Python 3 (ipykernel)",
   "language": "python",
   "name": "python3"
  },
  "language_info": {
   "codemirror_mode": {
    "name": "ipython",
    "version": 3
   },
   "file_extension": ".py",
   "mimetype": "text/x-python",
   "name": "python",
   "nbconvert_exporter": "python",
   "pygments_lexer": "ipython3",
   "version": "3.11.10"
  }
 },
 "nbformat": 4,
 "nbformat_minor": 5
}
